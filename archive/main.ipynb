{
 "cells": [
  {
   "cell_type": "code",
   "execution_count": 192,
   "metadata": {},
   "outputs": [],
   "source": [
    "url = 'https://raw.githubusercontent.com/tabatkins/wordle-list/main/words'\n",
    "import requests\n",
    "import numpy as np\n",
    "from numba import jit\n",
    "\n",
    "# Download the file from `url`, a newline-separated list of words in Wordle, and save it locally under `file_name`\n",
    "def download_words(url, file_name):\n",
    "    with open(file_name, 'wb') as f:\n",
    "        f.write(requests.get(url).content)\n",
    "\n",
    "download_words(url, 'words.txt')\n",
    "\n",
    "words = open('words.txt').read().split('\\n')\n",
    "assert all(len(word)==5 for word in words)\n",
    "\n",
    "# Wordle gives players six chances to guess a randomly selected five-letter word. As shown above, if you have the right letter in the right spot, it shows up green. A correct letter in the wrong spot shows up yellow. A letter that isn't in the word in any spot shows up gray. \n",
    "\n",
    "# You can enter a total of six words, meaning you can enter five burner words from which you can learn hints about the letters and their placements. Then you get one chance to put those hints to use. Or you can try for performance and guess the word of the day in three, two or even one go.\n",
    "\n",
    "def conditional_entropy(words, condition=None, verbose=False):\n",
    "    \"\"\"\n",
    "    Calculate the entropy of a list of words conditioned on a dictionary that maps letters to the positions to which they have had a positive or negative match in the word.\n",
    "    :param words: list of words\n",
    "    :param condition: dictionary of the form {letter: {position: is_present}} where the bool indicates whether the letter is present in the word at the given position or if it is in the word at a different position, respectively.\n",
    "    :return: float\n",
    "    \"\"\"\n",
    "    def word_is_compatible(word, condition=None):\n",
    "        \"\"\"\n",
    "        Check whether a word is compatible with the condition.\n",
    "        :param word: string\n",
    "        :param condition: dictionary of the form {letter: {position: is_present}} where the bool indicates whether the letter is present in the word at the given position or if it is in the word at a different position, respectively.\n",
    "        :return: bool\n",
    "        \"\"\"\n",
    "        for letter, positions in condition.items():\n",
    "            for position, is_present in positions.items():\n",
    "                if is_present and (letter not in word or word[position] != letter):\n",
    "                    return False\n",
    "                if not is_present and word[position] == letter:\n",
    "                    return False\n",
    "        return True\n",
    "\n",
    "    condition = condition or {}\n",
    "    compatible_words = [word for word in words if word_is_compatible(word, condition)]\n",
    "    if verbose:\n",
    "        if len(compatible_words) < 20:\n",
    "            print(f\"Compatible words: {compatible_words}\")\n",
    "        else:\n",
    "            print(f\"Number of compatible words: {len(compatible_words)} (too many to print)\")\n",
    "    # Suppose each word has an equal probability of being the word of the day.\n",
    "    conditional_entropy = np.log2(len(compatible_words))\n",
    "    return conditional_entropy\n",
    "\n",
    "def information_gain(words, condition, condition_initial=None, verbose=False):\n",
    "    \"\"\"\n",
    "    Calculate the information gain of a list of words conditioned on a dictionary that maps letters to the positions to which they have had a positive or negative match in the word.\n",
    "    :param words: list of words\n",
    "    :param condition: dictionary of the form {letter: {position: is_present}} where the bool indicates whether the letter is present in the word at the given position or if it is in the word at a different position, respectively.\n",
    "    :return: float\n",
    "    \"\"\"\n",
    "    return conditional_entropy(words, condition_initial, verbose=verbose) - conditional_entropy(words, condition, verbose=verbose)\n",
    "\n",
    "# Calculate the base entropy of the list of words ahead of time to save compute\n",
    "base_entropy = conditional_entropy(words)\n",
    "\n",
    "def evaluate_guess_to_condition(ground_truth, guess):\n",
    "    \"\"\"\n",
    "    Convert a guess to a condition.\n",
    "    :param ground_truth: string\n",
    "    :param guess: string\n",
    "    :return: dictionary of the form {letter: {position: is_present}} where the bool indicates whether the letter is present in the word at the given position or if it is in the word at a different position, respectively.\n",
    "    \"\"\"\n",
    "    assert len(ground_truth) == 5 and len(guess) == 5\n",
    "    condition = {guess_letter: dict() for guess_letter in guess}\n",
    "    for i in range(5):\n",
    "        condition[guess[i]][i] = guess[i] == ground_truth[i]\n",
    "    return condition\n",
    "\n",
    "def simplify_condition(condition):\n",
    "    \"\"\"\n",
    "    Simplify a condition by removing all position: is_present pairs for which is_present is True for another letter at the same position. Does not yet do process of elimination.\n",
    "    :param condition: dictionary of the form {letter: {position: is_present}} where the bool indicates whether the letter is present in the word at the given position or if it is in the word at a different position, respectively.\n",
    "    :return: a simplified version of the condition\n",
    "    \"\"\"\n",
    "    determined_positions = {position for letter, positions in condition.items() for position, is_present in positions.items() if is_present}\n",
    "    simplified_condition = {letter: {position: is_present for position, is_present in positions.items() if is_present or position not in determined_positions} for letter, positions in condition.items()}\n",
    "    # remove all letters that have no positions left\n",
    "    simplified_condition = {letter: positions for letter, positions in simplified_condition.items() if positions}\n",
    "    return simplified_condition\n",
    "\n",
    "def combine_conditions(*conditions):\n",
    "    \"\"\"\n",
    "    Combine conditions into a single condition.\n",
    "    :param conditions: list of conditions\n",
    "    :return: dictionary of the form {letter: {position: is_present}} where the bool indicates whether the letter is present in the word at the given position or if it is in the word at a different position, respectively.\n",
    "    \"\"\"\n",
    "    condition = {}\n",
    "    for condition_i in conditions:\n",
    "        for letter, positions in condition_i.items():\n",
    "            for position, is_present in positions.items():\n",
    "                if letter not in condition:\n",
    "                    condition[letter] = {}\n",
    "                if position not in condition[letter]:\n",
    "                    condition[letter][position] = is_present\n",
    "                else:\n",
    "                    assert condition[letter][position] == is_present, f\"Contradictory information about {letter} at position {position}.\"\n",
    "    return simplify_condition(condition)\n",
    "\n",
    "def evaluate_guesses_to_condition(ground_truth, guesses):\n",
    "    \"\"\"\n",
    "    Convert a list of guesses to a condition.\n",
    "    :param ground_truth: string\n",
    "    :param guesses: list of strings\n",
    "    :return: dictionary of the form {letter: {position: is_present}} where the bool indicates whether the letter is present in the word at the given position or if it is in the word at a different position, respectively.\n",
    "    \"\"\"\n",
    "    return combine_conditions(*[evaluate_guess_to_condition(ground_truth, guess) for guess in guesses])\n",
    "\n",
    "def expected_information_gain(words, guess, n_gt_samples=None, n_wordlist_samples=None):\n",
    "    \"\"\"\n",
    "    Calculate the expected information gain of a guess.\n",
    "    :param words: list of words\n",
    "    :param guess: string\n",
    "    :param n_samples: number of samples to use in the Monte Carlo simulation\n",
    "    :return: float\n",
    "    \"\"\"\n",
    "    average_information_gain = 0\n",
    "    for _ in range(n_gt_samples):\n",
    "        if n_wordlist_samples:\n",
    "            wordlist_sample = np.random.choice(words, size=min(n_wordlist_samples, len(words)), replace=False)\n",
    "        else:\n",
    "            wordlist_sample = words\n",
    "        ground_truth = np.random.choice(wordlist_sample)\n",
    "        condition = evaluate_guess_to_condition(ground_truth, guess)\n",
    "        this_information_gain = (base_entropy - conditional_entropy(wordlist_sample, condition) - np.log2(len(words)/len(wordlist_sample))) / n_gt_samples\n",
    "        average_information_gain += this_information_gain\n",
    "    return average_information_gain\n",
    "\n",
    "if __name__ == \"__main__\":\n",
    "    print(expected_information_gain(words, 'adeiu', n_gt_samples=1000, n_wordlist_samples=None))"
   ]
  },
  {
   "cell_type": "code",
   "execution_count": 205,
   "metadata": {},
   "outputs": [
    {
     "data": {
      "text/plain": [
       "13.660330223675741"
      ]
     },
     "execution_count": 205,
     "metadata": {},
     "output_type": "execute_result"
    }
   ],
   "source": [
    "base_entropy"
   ]
  },
  {
   "cell_type": "code",
   "execution_count": null,
   "metadata": {},
   "outputs": [],
   "source": []
  },
  {
   "cell_type": "code",
   "execution_count": 203,
   "metadata": {},
   "outputs": [
    {
     "data": {
      "text/plain": [
       "1.1407539295777844"
      ]
     },
     "execution_count": 203,
     "metadata": {},
     "output_type": "execute_result"
    }
   ],
   "source": [
    "expected_information_gain(words, 'adeiu', n_gt_samples=1000, n_wordlist_samples=1000)"
   ]
  },
  {
   "cell_type": "code",
   "execution_count": 172,
   "metadata": {},
   "outputs": [
    {
     "data": {
      "text/plain": [
       "2.127028995649937"
      ]
     },
     "execution_count": 172,
     "metadata": {},
     "output_type": "execute_result"
    }
   ],
   "source": [
    "expected_information_gain(words, 'aaaaa', n_gt_samples=1000, n_wordlist_samples=None)"
   ]
  },
  {
   "cell_type": "code",
   "execution_count": null,
   "metadata": {},
   "outputs": [],
   "source": [
    "# 1. Information gain if we know the all letters in the word \"awake\".\n",
    "gain = information_gain(words, {'a': {0: True, 2: True}, 'w': {1: True}, 'k': {3: True}, 'e': {4: True}}, verbose=True)\n",
    "print(f\"1. Information gain: {gain}\")\n",
    "# 2. Information gain if we know the all letters in the word \"awake\" except the \"k\".\n",
    "gain = information_gain(words, {'a': {0: True, 2: True}, 'w': {1: True}, 'e': {4: True}}, verbose=True)\n",
    "print(f\"2. Information gain: {gain}\")\n",
    "# 3. Information gain if we know the all letters in the word \"awake\" except the \"k\", but we know the fourth letter (at index 3) is not a \"r\".\n",
    "gain = information_gain(words, {'a': {0: True, 2: True}, 'w': {1: True}, 'e': {4: True}, 'r': {3: False}}, verbose=True)\n",
    "print(f\"3. Information gain: {gain}\")"
   ]
  }
 ],
 "metadata": {
  "interpreter": {
   "hash": "a4e86c934b375bdfbcaa1924885d620a34ad2919c9a02314b4bebd1564549087"
  },
  "kernelspec": {
   "display_name": "Python 3.9.7 ('py39')",
   "language": "python",
   "name": "python3"
  },
  "language_info": {
   "codemirror_mode": {
    "name": "ipython",
    "version": 3
   },
   "file_extension": ".py",
   "mimetype": "text/x-python",
   "name": "python",
   "nbconvert_exporter": "python",
   "pygments_lexer": "ipython3",
   "version": "3.9.7"
  },
  "orig_nbformat": 4
 },
 "nbformat": 4,
 "nbformat_minor": 2
}
