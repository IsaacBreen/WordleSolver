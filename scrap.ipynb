{
 "cells": [
  {
   "cell_type": "code",
   "execution_count": 1,
   "metadata": {},
   "outputs": [
    {
     "name": "stderr",
     "output_type": "stream",
     "text": [
      "/Users/isaacbreen/miniforge3/envs/py39/lib/python3.9/site-packages/jax/_src/lib/__init__.py:32: UserWarning: JAX on Mac ARM machines is experimental and minimally tested. Please see https://github.com/google/jax/issues/5501 in the event of problems.\n",
      "  warnings.warn(\"JAX on Mac ARM machines is experimental and minimally tested. \"\n"
     ]
    }
   ],
   "source": [
    "import numpy as np\n",
    "from tqdm import tqdm\n",
    "import numba\n",
    "from numba import njit\n",
    "from jax import numpy as jnp\n",
    "import jax\n",
    "from jax import vmap, pmap\n",
    "from jax import jit as jjit"
   ]
  },
  {
   "cell_type": "code",
   "execution_count": 20,
   "metadata": {},
   "outputs": [
    {
     "name": "stdout",
     "output_type": "stream",
     "text": [
      "There are 2309 words and 12947 guesses.\n",
      "wordlist  = [aback, abase, abate, abbey, abbot, abhor, abide, abled, abode, abort ...]\n",
      "guesslist = [aahed, aalii, aargh, aarti, abaca, abaci, aback, abacs, abaft, abaka ...]\n"
     ]
    }
   ],
   "source": [
    "import string\n",
    "import pathlib\n",
    "\n",
    "path = \"/Users/isaacbreen/Documents/Projects/WordleSolver/cpp/src\"\n",
    "# Save to cpp/src/data/wordlist.hpp and cpp/src/data/guesslist.hpp\n",
    "RAW_DATA_FOLDER = pathlib.Path(path).parent.parent / \"data\"\n",
    "CPP_DATA_FOLDER = pathlib.Path(path).parent.parent / \"cpp\" / \"src\" / \"data\"\n",
    "USE_CONSTEXPR = False\n",
    "\n",
    "nw = None\n",
    "ng = None\n",
    "\n",
    "# Import words from solutions_nyt.txt and nonsolutions_nyt.txt. They are quoted (e.g. \"soare\") and separated by \", \".\n",
    "with open(RAW_DATA_FOLDER / \"solutions_nyt.txt\", \"r\") as f:\n",
    "    # Remove all spaces and quotes\n",
    "    words = f.read().replace(\" \", \"\").replace('\"', \"\").split(\",\")[:nw]\n",
    "    words = sorted(words)\n",
    "with open(RAW_DATA_FOLDER / \"nonsolutions_nyt.txt\", \"r\") as f:\n",
    "    guesses = f.read().replace(\" \", \"\").replace('\"', \"\").split(',')[:ng]\n",
    "    guesses = sorted(guesses)\n",
    "    \n",
    "guesses = words + guesses\n",
    "# Ensure each guess is unique\n",
    "assert len(set(guesses)) == len(guesses)\n",
    "print(f\"There are {len(words)} words and {len(guesses)} guesses.\")\n",
    "# Print the first 10 words and guesses with a ... to indicate that there are more\n",
    "print(f\"wordlist  = [{', '.join(sorted(words)[:10])} ...]\")\n",
    "print(f\"guesslist = [{', '.join(sorted(guesses)[:10])} ...]\")\n",
    "# Convert to int8 numpy arrays\n",
    "letters = {c: i for i, c in enumerate(string.ascii_lowercase)}\n",
    "def str_to_int8(s):\n",
    "    return jnp.array([letters[c] for c in s], dtype=np.int8)\n",
    "def int8_to_str(a):\n",
    "    return \"\".join(string.ascii_lowercase[i] for i in a)\n",
    "words = jnp.array([str_to_int8(w) for w in words], dtype=np.int8)\n",
    "guesses = jnp.array([str_to_int8(g) for g in guesses], dtype=np.int8)"
   ]
  },
  {
   "cell_type": "code",
   "execution_count": null,
   "metadata": {},
   "outputs": [],
   "source": []
  },
  {
   "cell_type": "code",
   "execution_count": 21,
   "metadata": {},
   "outputs": [],
   "source": [
    "WORD_LENGTH = 5\n",
    "NUM_HINTS = 3**WORD_LENGTH\n",
    "NUM_WORDS = len(words)\n",
    "NUM_GUESSES = len(guesses)\n",
    "MAX_TURNS = 6\n",
    "\n",
    "FULL_WORDLIST = jnp.ones((NUM_WORDS, ), dtype=np.bool_)\n",
    "\n",
    "USE_JAX = True\n",
    "jit = jjit if USE_JAX else njit\n",
    "if USE_JAX:\n",
    "    # Convert to jax arrays\n",
    "    words = jnp.array(words)\n",
    "    guesses = jnp.array(guesses)\n",
    "else:\n",
    "    # Convert to numpy arrays\n",
    "    words = np.array(words) \n",
    "    guesses = np.array(guesses)\n",
    "\n",
    "@jit\n",
    "def make_hint(word, guess):\n",
    "    if not USE_JAX:\n",
    "        hint = 0\n",
    "        for i in range(WORD_LENGTH):\n",
    "            if guess[i] == word[i]:\n",
    "                hint += 3**i*2\n",
    "        for i in range(WORD_LENGTH):\n",
    "            for j in range(WORD_LENGTH):\n",
    "                if guess[i] == word[j] and guess[i] != word[i] and guess[j] != word[j]:\n",
    "                    hint += 3**i\n",
    "                    break\n",
    "        return hint\n",
    "    else:\n",
    "        # JAX version\n",
    "        hint = (guess == word) * (3**jnp.arange(WORD_LENGTH)) * 2\n",
    "        hint += jnp.any((guess != word)[jnp.newaxis, :] * (guess != word)[:, jnp.newaxis] * (guess[:, jnp.newaxis] == word[jnp.newaxis, :]), axis=1) * (3**jnp.arange(WORD_LENGTH))\n",
    "        return hint.sum()\n",
    "    \n",
    "def hint_to_str(hint):\n",
    "    s = \"\"\n",
    "    for i in range(WORD_LENGTH):\n",
    "        s += str(hint % 3)\n",
    "        hint //= 3\n",
    "    return s\n",
    "\n",
    "@jit\n",
    "def _precompute_hints_helper(word, guesses):\n",
    "    if not USE_JAX:\n",
    "        hints = np.zeros((NUM_GUESSES,), dtype=np.int8)\n",
    "        for g in range(NUM_GUESSES):\n",
    "            hints[g] = make_hint(word, guesses[g])\n",
    "        return hints\n",
    "    else:\n",
    "        # JAX version\n",
    "        return vmap(make_hint, in_axes=(None, 0))(word, guesses)\n",
    "\n",
    "# Precompute the hints for each (word, guess) pair and store them in a numpy array\n",
    "def precompute_hints(words, guesses):\n",
    "    if not USE_JAX:\n",
    "        hints = np.zeros((NUM_WORDS, NUM_GUESSES), dtype=np.int8)\n",
    "        for w in tqdm(range(NUM_WORDS)):\n",
    "            hints[w, :] = _precompute_hints_helper(words[w], guesses)\n",
    "        return hints\n",
    "    else:\n",
    "        # JAX version\n",
    "        return vmap(_precompute_hints_helper, (0, None))(words, guesses)\n",
    "    \n",
    "@jit\n",
    "def get_hint(word_index, guess_index, hints):\n",
    "    \"\"\"\n",
    "    Returns the hint for the given word and guess.\n",
    "    \"\"\"\n",
    "    return hints[word_index, guess_index]\n",
    "\n",
    "hints = precompute_hints(words, guesses) # (NUM_WORDS, NUM_GUESSES)"
   ]
  },
  {
   "cell_type": "code",
   "execution_count": null,
   "metadata": {},
   "outputs": [],
   "source": []
  },
  {
   "cell_type": "code",
   "execution_count": 23,
   "metadata": {},
   "outputs": [
    {
     "name": "stdout",
     "output_type": "stream",
     "text": [
      "aback\n",
      "adept\n",
      "20000\n"
     ]
    }
   ],
   "source": [
    "print(int8_to_str(words[0]))\n",
    "print(int8_to_str(guesses[20]))\n",
    "print(hint_to_str(make_hint(words[0], guesses[20])))\n",
    "assert hint_to_str(make_hint(words[0], guesses[20])) == \"20000\""
   ]
  },
  {
   "cell_type": "code",
   "execution_count": 24,
   "metadata": {},
   "outputs": [],
   "source": [
    "@jit\n",
    "def _compatible_word_guess_hint_triple(word_index, guess_index, hint_index, hints):\n",
    "    \"\"\"\n",
    "    Returns true if the given word, guess, and hint are compatible.\n",
    "    \"\"\"\n",
    "    return get_hint(word_index, guess_index, hints) != hint_index\n",
    "\n",
    "@jit\n",
    "def _precompute_compatible_word_guess_hint_triples_helper(g, hints):\n",
    "    compatible_word_guess_hint_triples = np.zeros((NUM_HINTS, NUM_WORDS), dtype=np.bool_)\n",
    "    for h in range(NUM_HINTS):\n",
    "        for w in range(NUM_WORDS):\n",
    "            compatible_word_guess_hint_triples[h, w] = _compatible_word_guess_hint_triple(w, g, h, hints)\n",
    "\n",
    "def precompute_compatible_word_guess_hint_triples(hints):\n",
    "    hints = np.array(hints)\n",
    "    # Precompute compatible word-guess-hint triplets and store them in a numpy array with shape (NUM_HINTS, len(guesses), len(words))\n",
    "    compatible_word_guess_hint_triples = np.zeros((len(guesses), NUM_HINTS, len(words)), dtype=bool)\n",
    "    for g in tqdm(range(NUM_GUESSES)):\n",
    "        compatible_word_guess_hint_triples[g] = _precompute_compatible_word_guess_hint_triples_helper(g, hints)\n",
    "    return compatible_word_guess_hint_triples\n",
    "\n",
    "def precompute_compatible_word_guess_hint_triples_jax(hints):\n",
    "    # JAX version\n",
    "    guess_indices = jnp.arange(NUM_GUESSES)[:, jnp.newaxis, jnp.newaxis]\n",
    "    hint_indices = jnp.arange(NUM_HINTS)[jnp.newaxis, :, jnp.newaxis]\n",
    "    word_indices = jnp.arange(NUM_WORDS)[jnp.newaxis, jnp.newaxis, :]\n",
    "    return hints[word_indices, guess_indices] == hint_indices\n",
    "    \n",
    "compatibilities = precompute_compatible_word_guess_hint_triples_jax(hints) # (NUM_GUESSES, NUM_HINTS, NUM_WORDS)\n",
    "\n",
    "@jit\n",
    "def compatible_word_guess_hint_triple(word_index, guess_index, hint_index, compatibilities):\n",
    "    \"\"\"\n",
    "    Returns true if the given word, guess, and hint are compatible.\n",
    "    \"\"\"\n",
    "    return compatibilities[hint_index, guess_index, word_index]\n",
    "\n",
    "@jit\n",
    "def get_compatible_words(guess_index, hint_index, compatibilities):\n",
    "    \"\"\"\n",
    "    Returns a boolean array of the words that are compatible with the given guess and hint.\n",
    "    \"\"\"\n",
    "    return compatibilities[guess_index, hint_index]"
   ]
  },
  {
   "cell_type": "code",
   "execution_count": 27,
   "metadata": {},
   "outputs": [
    {
     "name": "stdout",
     "output_type": "stream",
     "text": [
      "arbor\n"
     ]
    }
   ],
   "source": [
    "num_words_after_correct_guess = get_compatible_words(0, 242, compatibilities).sum()\n",
    "assert num_words_after_correct_guess == 1, f\"Expected 1, got {num_words_after_correct_guess}\"\n",
    "\n",
    "guess = 100\n",
    "hint = 16\n",
    "print(int8_to_str(guesses[guess]))\n",
    "num_words_left = get_compatible_words(guess, hint, compatibilities).sum()\n",
    "assert num_words_left == 12, f\"Expected 1, got {num_words_left}\""
   ]
  },
  {
   "cell_type": "code",
   "execution_count": 28,
   "metadata": {},
   "outputs": [],
   "source": [
    "@jit\n",
    "def get_hint_counts_jax(guess_index, wordlist, hints):\n",
    "    \"\"\"\n",
    "    Returns the number of times each hint is appears for the given guess as a dense array.\n",
    "    \"\"\"\n",
    "    return jnp.bincount((hints[:, guess_index] + 1) * wordlist, length=NUM_HINTS+1)[1:]\n",
    "\n",
    "@jit\n",
    "def get_next_wordlists_and_counts_jax(guess_index, wordlist, hints, compatibilities):\n",
    "    \"\"\"\n",
    "    Returns all possible wordlists and their counts following the given guess.\n",
    "    \"\"\"\n",
    "    hint_counts = get_hint_counts_jax(guess_index, wordlist, hints)\n",
    "    wordlists = wordlist[jnp.newaxis, :] & compatibilities[guess_index, :, :]\n",
    "    return wordlists, hint_counts\n",
    "\n",
    "def get_next_wordlists_and_counts_sparse(guess_index, wordlist, hints, compatibilities):\n",
    "    \"\"\"\n",
    "    Returns all possible wordlists and their counts following the given guess with wordlists that never occur removed\n",
    "    \"\"\"\n",
    "    hint_counts = get_hint_counts_jax(guess_index, wordlist, hints)\n",
    "    wordlists = wordlist[jnp.newaxis, :] & compatibilities[guess_index, hint_counts>0, :]\n",
    "    hint_indices = jnp.where(hint_counts>0)[0]\n",
    "    return wordlists, hint_counts[hint_counts>0], hint_indices"
   ]
  },
  {
   "cell_type": "code",
   "execution_count": 45,
   "metadata": {},
   "outputs": [
    {
     "name": "stdout",
     "output_type": "stream",
     "text": [
      "848\n",
      "(243,)\n",
      "(243, 2309) (243,)\n",
      "hint_indices: [ 0  9 18 27 36 45 54 63 72]\n",
      "(9, 2309) (9,)\n",
      "[473 166  43  88  23  10  36   4   5]\n",
      "[473 166  43  88  23  10  36   4   5]\n"
     ]
    },
    {
     "data": {
      "text/plain": [
       "DeviceArray([473, 166,  43,  88,  23,  10,  36,   4,   5], dtype=int32)"
      ]
     },
     "execution_count": 45,
     "metadata": {},
     "output_type": "execute_result"
    }
   ],
   "source": [
    "guess = 1001\n",
    "hint = 0\n",
    "wordlist = get_compatible_words(guess, hint, compatibilities)\n",
    "guess = 1002\n",
    "hint = 0\n",
    "wordlist = wordlist & get_compatible_words(guess, hint, compatibilities)\n",
    "print(wordlist.sum())\n",
    "guess = 1003\n",
    "print(get_hint_counts_jax(guess, wordlist, hints).shape)\n",
    "next_wordlists, counts = get_next_wordlists_and_counts_jax(guess, wordlist, hints, compatibilities)\n",
    "print(next_wordlists.shape, counts.shape)\n",
    "next_wordlists_sparse, counts_sparse, hint_indices = get_next_wordlists_and_counts_sparse(guess, wordlist, hints, compatibilities)\n",
    "print(f\"hint_indices: {hint_indices}\")\n",
    "print(next_wordlists_sparse.shape, counts_sparse.shape)\n",
    "print(next_wordlists_sparse.sum(axis=1))\n",
    "# print(next_wordlists.sum(axis=1))\n",
    "print(counts_sparse)\n",
    "assert next_wordlists_sparse.shape[0] == (counts>0).sum()\n",
    "assert (next_wordlists_sparse == next_wordlists[counts>0]).all()\n",
    "next_wordlists_sparse.shape\n",
    "next_wordlists_sparse.sum(axis=1)\n",
    "# wordlist.shape"
   ]
  },
  {
   "cell_type": "code",
   "execution_count": null,
   "metadata": {},
   "outputs": [],
   "source": []
  },
  {
   "cell_type": "code",
   "execution_count": null,
   "metadata": {},
   "outputs": [],
   "source": [
    "\n"
   ]
  },
  {
   "cell_type": "code",
   "execution_count": null,
   "metadata": {},
   "outputs": [],
   "source": []
  },
  {
   "cell_type": "code",
   "execution_count": 31,
   "metadata": {},
   "outputs": [
    {
     "data": {
      "text/plain": [
       "DeviceArray([[False, False,  True, ...,  True, False, False],\n",
       "             [False, False, False, ..., False, False, False],\n",
       "             [False, False, False, ..., False, False,  True],\n",
       "             ...,\n",
       "             [ True, False, False, ..., False, False, False],\n",
       "             [False, False, False, ..., False, False, False],\n",
       "             [False, False, False, ..., False, False, False]], dtype=bool)"
      ]
     },
     "execution_count": 31,
     "metadata": {},
     "output_type": "execute_result"
    }
   ],
   "source": [
    "next_wordlists_sparse"
   ]
  },
  {
   "cell_type": "code",
   "execution_count": 11,
   "metadata": {},
   "outputs": [
    {
     "name": "stdout",
     "output_type": "stream",
     "text": [
      "2309\n",
      "Turn 0 with 2309 words remaining\n",
      "1 1\n",
      "1.0004331 0.00043308793\n",
      "1.0008662 0.00043308793\n",
      "1.0012993 0.00043308793\n",
      "1.0017323 0.00043308793\n",
      "1.0021654 0.00043308781\n",
      "1.0025985 0.00043308781\n",
      "1.0030316 0.00043308781\n",
      "1.0034647 0.00043308781\n",
      "1.0038978 0.00043308781\n",
      "1.0043309 0.00043308781\n",
      "1.004764 0.00043308781\n",
      "1.0056301 0.00086617563\n",
      "1.0060632 0.00043308828\n",
      "1.0069294 0.00086617563\n",
      "1.0077956 0.00086617563\n",
      "1.0082287 0.00043308828\n",
      "1.0086617 0.00043308828\n",
      "1.009961 0.0012992639\n"
     ]
    },
    {
     "ename": "KeyboardInterrupt",
     "evalue": "",
     "output_type": "error",
     "traceback": [
      "\u001b[0;31m---------------------------------------------------------------------------\u001b[0m",
      "\u001b[0;31mKeyboardInterrupt\u001b[0m                         Traceback (most recent call last)",
      "\u001b[0;32m/var/folders/dy/bfqxrmw10w160dt3drl9_0f80000gn/T/ipykernel_31234/705152424.py\u001b[0m in \u001b[0;36m<module>\u001b[0;34m\u001b[0m\n\u001b[1;32m     95\u001b[0m \u001b[0;34m\u001b[0m\u001b[0m\n\u001b[1;32m     96\u001b[0m \u001b[0mEMTW\u001b[0m \u001b[0;34m=\u001b[0m \u001b[0;36m0\u001b[0m\u001b[0;34m\u001b[0m\u001b[0;34m\u001b[0m\u001b[0m\n\u001b[0;32m---> 97\u001b[0;31m \u001b[0;32mfor\u001b[0m \u001b[0mx\u001b[0m \u001b[0;32min\u001b[0m \u001b[0mcalculate_EMTW\u001b[0m\u001b[0;34m(\u001b[0m\u001b[0mwordlist\u001b[0m\u001b[0;34m)\u001b[0m\u001b[0;34m:\u001b[0m\u001b[0;34m\u001b[0m\u001b[0;34m\u001b[0m\u001b[0m\n\u001b[0m\u001b[1;32m     98\u001b[0m     \u001b[0mEMTW\u001b[0m \u001b[0;34m+=\u001b[0m \u001b[0mx\u001b[0m\u001b[0;34m\u001b[0m\u001b[0;34m\u001b[0m\u001b[0m\n\u001b[1;32m     99\u001b[0m     \u001b[0mprint\u001b[0m\u001b[0;34m(\u001b[0m\u001b[0mEMTW\u001b[0m\u001b[0;34m,\u001b[0m \u001b[0mx\u001b[0m\u001b[0;34m)\u001b[0m\u001b[0;34m\u001b[0m\u001b[0;34m\u001b[0m\u001b[0m\n",
      "\u001b[0;32m/var/folders/dy/bfqxrmw10w160dt3drl9_0f80000gn/T/ipykernel_31234/705152424.py\u001b[0m in \u001b[0;36mcalculate_EMTW\u001b[0;34m(wordlist, turn)\u001b[0m\n\u001b[1;32m     79\u001b[0m     \u001b[0;32melse\u001b[0m\u001b[0;34m:\u001b[0m\u001b[0;34m\u001b[0m\u001b[0;34m\u001b[0m\u001b[0m\n\u001b[1;32m     80\u001b[0m         \u001b[0;32myield\u001b[0m \u001b[0;36m1\u001b[0m\u001b[0;34m\u001b[0m\u001b[0;34m\u001b[0m\u001b[0m\n\u001b[0;32m---> 81\u001b[0;31m         \u001b[0;32myield\u001b[0m \u001b[0;32mfrom\u001b[0m \u001b[0mmin_breadth_first_yield\u001b[0m\u001b[0;34m(\u001b[0m\u001b[0m_calculate_EMTW_given_guess\u001b[0m\u001b[0;34m,\u001b[0m \u001b[0mrange\u001b[0m\u001b[0;34m(\u001b[0m\u001b[0mNUM_GUESSES\u001b[0m\u001b[0;34m)\u001b[0m\u001b[0;34m,\u001b[0m \u001b[0mwordlist\u001b[0m\u001b[0;34m=\u001b[0m\u001b[0mwordlist\u001b[0m\u001b[0;34m,\u001b[0m \u001b[0mnum_words\u001b[0m\u001b[0;34m=\u001b[0m\u001b[0mnum_words\u001b[0m\u001b[0;34m,\u001b[0m \u001b[0mturn\u001b[0m\u001b[0;34m=\u001b[0m\u001b[0mturn\u001b[0m\u001b[0;34m+\u001b[0m\u001b[0;36m1\u001b[0m\u001b[0;34m)\u001b[0m\u001b[0;34m\u001b[0m\u001b[0;34m\u001b[0m\u001b[0m\n\u001b[0m\u001b[1;32m     82\u001b[0m \u001b[0;34m\u001b[0m\u001b[0m\n\u001b[1;32m     83\u001b[0m \u001b[0mword\u001b[0m \u001b[0;34m=\u001b[0m \u001b[0;36m6\u001b[0m\u001b[0;34m\u001b[0m\u001b[0;34m\u001b[0m\u001b[0m\n",
      "\u001b[0;32m/var/folders/dy/bfqxrmw10w160dt3drl9_0f80000gn/T/ipykernel_31234/705152424.py\u001b[0m in \u001b[0;36mmin_breadth_first_yield\u001b[0;34m(f, values, *args, **kwargs)\u001b[0m\n\u001b[1;32m     29\u001b[0m             \u001b[0;34m(\u001b[0m\u001b[0mi\u001b[0m\u001b[0;34m,\u001b[0m \u001b[0mit\u001b[0m\u001b[0;34m)\u001b[0m \u001b[0;34m=\u001b[0m \u001b[0miterators\u001b[0m\u001b[0;34m[\u001b[0m\u001b[0mj\u001b[0m\u001b[0;34m]\u001b[0m\u001b[0;34m\u001b[0m\u001b[0;34m\u001b[0m\u001b[0m\n\u001b[1;32m     30\u001b[0m             \u001b[0;32mtry\u001b[0m\u001b[0;34m:\u001b[0m\u001b[0;34m\u001b[0m\u001b[0;34m\u001b[0m\u001b[0m\n\u001b[0;32m---> 31\u001b[0;31m                 \u001b[0mresult\u001b[0m \u001b[0;34m=\u001b[0m \u001b[0mnext\u001b[0m\u001b[0;34m(\u001b[0m\u001b[0mit\u001b[0m\u001b[0;34m)\u001b[0m\u001b[0;34m\u001b[0m\u001b[0;34m\u001b[0m\u001b[0m\n\u001b[0m\u001b[1;32m     32\u001b[0m                 \u001b[0;32massert\u001b[0m \u001b[0mresult\u001b[0m \u001b[0;34m>=\u001b[0m \u001b[0;36m0\u001b[0m\u001b[0;34m,\u001b[0m \u001b[0;34mf\"Expected non-negative result, got {result}\"\u001b[0m\u001b[0;34m\u001b[0m\u001b[0;34m\u001b[0m\u001b[0m\n\u001b[1;32m     33\u001b[0m                 \u001b[0mresults\u001b[0m\u001b[0;34m[\u001b[0m\u001b[0mi\u001b[0m\u001b[0;34m]\u001b[0m \u001b[0;34m+=\u001b[0m \u001b[0mresult\u001b[0m\u001b[0;34m\u001b[0m\u001b[0;34m\u001b[0m\u001b[0m\n",
      "\u001b[0;32m/var/folders/dy/bfqxrmw10w160dt3drl9_0f80000gn/T/ipykernel_31234/705152424.py\u001b[0m in \u001b[0;36m_calculate_EMTW_given_guess\u001b[0;34m(guess, wordlist, num_words, turn)\u001b[0m\n\u001b[1;32m     60\u001b[0m         \u001b[0mprobabilities\u001b[0m \u001b[0;34m=\u001b[0m \u001b[0mcounts\u001b[0m \u001b[0;34m/\u001b[0m \u001b[0mnum_words\u001b[0m\u001b[0;34m\u001b[0m\u001b[0;34m\u001b[0m\u001b[0m\n\u001b[1;32m     61\u001b[0m         \u001b[0;32massert\u001b[0m \u001b[0mnp\u001b[0m\u001b[0;34m.\u001b[0m\u001b[0misclose\u001b[0m\u001b[0;34m(\u001b[0m\u001b[0mprobabilities\u001b[0m\u001b[0;34m.\u001b[0m\u001b[0msum\u001b[0m\u001b[0;34m(\u001b[0m\u001b[0;34m)\u001b[0m\u001b[0;34m,\u001b[0m \u001b[0;36m1\u001b[0m\u001b[0;34m)\u001b[0m\u001b[0;34m,\u001b[0m \u001b[0;34mf\"{probabilities.sum()} != 1\"\u001b[0m\u001b[0;34m\u001b[0m\u001b[0;34m\u001b[0m\u001b[0m\n\u001b[0;32m---> 62\u001b[0;31m         \u001b[0;32myield\u001b[0m \u001b[0;32mfrom\u001b[0m \u001b[0mcalculate_expectation_breadth_first_yield\u001b[0m\u001b[0;34m(\u001b[0m\u001b[0mcalculate_EMTW\u001b[0m\u001b[0;34m,\u001b[0m \u001b[0mnext_wordlists\u001b[0m\u001b[0;34m,\u001b[0m \u001b[0mprobabilities\u001b[0m\u001b[0;34m,\u001b[0m \u001b[0mturn\u001b[0m\u001b[0;34m=\u001b[0m\u001b[0mturn\u001b[0m\u001b[0;34m)\u001b[0m\u001b[0;34m\u001b[0m\u001b[0;34m\u001b[0m\u001b[0m\n\u001b[0m\u001b[1;32m     63\u001b[0m \u001b[0;34m\u001b[0m\u001b[0m\n\u001b[1;32m     64\u001b[0m \u001b[0mPRINT_TURNS\u001b[0m \u001b[0;34m=\u001b[0m \u001b[0;36m0\u001b[0m\u001b[0;34m\u001b[0m\u001b[0;34m\u001b[0m\u001b[0m\n",
      "\u001b[0;32m/var/folders/dy/bfqxrmw10w160dt3drl9_0f80000gn/T/ipykernel_31234/705152424.py\u001b[0m in \u001b[0;36mcalculate_expectation_breadth_first_yield\u001b[0;34m(f, values, probabilities, *args, **kwargs)\u001b[0m\n\u001b[1;32m      9\u001b[0m             \u001b[0;34m(\u001b[0m\u001b[0mp\u001b[0m\u001b[0;34m,\u001b[0m \u001b[0mit\u001b[0m\u001b[0;34m)\u001b[0m \u001b[0;34m=\u001b[0m \u001b[0miterators\u001b[0m\u001b[0;34m[\u001b[0m\u001b[0mi\u001b[0m\u001b[0;34m]\u001b[0m\u001b[0;34m\u001b[0m\u001b[0;34m\u001b[0m\u001b[0m\n\u001b[1;32m     10\u001b[0m             \u001b[0;32mtry\u001b[0m\u001b[0;34m:\u001b[0m\u001b[0;34m\u001b[0m\u001b[0;34m\u001b[0m\u001b[0m\n\u001b[0;32m---> 11\u001b[0;31m                 \u001b[0mdx\u001b[0m \u001b[0;34m=\u001b[0m \u001b[0mnext\u001b[0m\u001b[0;34m(\u001b[0m\u001b[0mit\u001b[0m\u001b[0;34m)\u001b[0m\u001b[0;34m\u001b[0m\u001b[0;34m\u001b[0m\u001b[0m\n\u001b[0m\u001b[1;32m     12\u001b[0m                 \u001b[0;32massert\u001b[0m \u001b[0mdx\u001b[0m\u001b[0;34m>=\u001b[0m\u001b[0;36m0\u001b[0m\u001b[0;34m,\u001b[0m \u001b[0;34mf\"Expected non-negative result, got {dx}\"\u001b[0m\u001b[0;34m\u001b[0m\u001b[0;34m\u001b[0m\u001b[0m\n\u001b[1;32m     13\u001b[0m                 \u001b[0;32myield\u001b[0m \u001b[0mp\u001b[0m\u001b[0;34m*\u001b[0m\u001b[0mdx\u001b[0m\u001b[0;34m\u001b[0m\u001b[0;34m\u001b[0m\u001b[0m\n",
      "\u001b[0;32m/var/folders/dy/bfqxrmw10w160dt3drl9_0f80000gn/T/ipykernel_31234/705152424.py\u001b[0m in \u001b[0;36mcalculate_EMTW\u001b[0;34m(wordlist, turn)\u001b[0m\n\u001b[1;32m     79\u001b[0m     \u001b[0;32melse\u001b[0m\u001b[0;34m:\u001b[0m\u001b[0;34m\u001b[0m\u001b[0;34m\u001b[0m\u001b[0m\n\u001b[1;32m     80\u001b[0m         \u001b[0;32myield\u001b[0m \u001b[0;36m1\u001b[0m\u001b[0;34m\u001b[0m\u001b[0;34m\u001b[0m\u001b[0m\n\u001b[0;32m---> 81\u001b[0;31m         \u001b[0;32myield\u001b[0m \u001b[0;32mfrom\u001b[0m \u001b[0mmin_breadth_first_yield\u001b[0m\u001b[0;34m(\u001b[0m\u001b[0m_calculate_EMTW_given_guess\u001b[0m\u001b[0;34m,\u001b[0m \u001b[0mrange\u001b[0m\u001b[0;34m(\u001b[0m\u001b[0mNUM_GUESSES\u001b[0m\u001b[0;34m)\u001b[0m\u001b[0;34m,\u001b[0m \u001b[0mwordlist\u001b[0m\u001b[0;34m=\u001b[0m\u001b[0mwordlist\u001b[0m\u001b[0;34m,\u001b[0m \u001b[0mnum_words\u001b[0m\u001b[0;34m=\u001b[0m\u001b[0mnum_words\u001b[0m\u001b[0;34m,\u001b[0m \u001b[0mturn\u001b[0m\u001b[0;34m=\u001b[0m\u001b[0mturn\u001b[0m\u001b[0;34m+\u001b[0m\u001b[0;36m1\u001b[0m\u001b[0;34m)\u001b[0m\u001b[0;34m\u001b[0m\u001b[0;34m\u001b[0m\u001b[0m\n\u001b[0m\u001b[1;32m     82\u001b[0m \u001b[0;34m\u001b[0m\u001b[0m\n\u001b[1;32m     83\u001b[0m \u001b[0mword\u001b[0m \u001b[0;34m=\u001b[0m \u001b[0;36m6\u001b[0m\u001b[0;34m\u001b[0m\u001b[0;34m\u001b[0m\u001b[0m\n",
      "\u001b[0;32m/var/folders/dy/bfqxrmw10w160dt3drl9_0f80000gn/T/ipykernel_31234/705152424.py\u001b[0m in \u001b[0;36mmin_breadth_first_yield\u001b[0;34m(f, values, *args, **kwargs)\u001b[0m\n\u001b[1;32m     29\u001b[0m             \u001b[0;34m(\u001b[0m\u001b[0mi\u001b[0m\u001b[0;34m,\u001b[0m \u001b[0mit\u001b[0m\u001b[0;34m)\u001b[0m \u001b[0;34m=\u001b[0m \u001b[0miterators\u001b[0m\u001b[0;34m[\u001b[0m\u001b[0mj\u001b[0m\u001b[0;34m]\u001b[0m\u001b[0;34m\u001b[0m\u001b[0;34m\u001b[0m\u001b[0m\n\u001b[1;32m     30\u001b[0m             \u001b[0;32mtry\u001b[0m\u001b[0;34m:\u001b[0m\u001b[0;34m\u001b[0m\u001b[0;34m\u001b[0m\u001b[0m\n\u001b[0;32m---> 31\u001b[0;31m                 \u001b[0mresult\u001b[0m \u001b[0;34m=\u001b[0m \u001b[0mnext\u001b[0m\u001b[0;34m(\u001b[0m\u001b[0mit\u001b[0m\u001b[0;34m)\u001b[0m\u001b[0;34m\u001b[0m\u001b[0;34m\u001b[0m\u001b[0m\n\u001b[0m\u001b[1;32m     32\u001b[0m                 \u001b[0;32massert\u001b[0m \u001b[0mresult\u001b[0m \u001b[0;34m>=\u001b[0m \u001b[0;36m0\u001b[0m\u001b[0;34m,\u001b[0m \u001b[0;34mf\"Expected non-negative result, got {result}\"\u001b[0m\u001b[0;34m\u001b[0m\u001b[0;34m\u001b[0m\u001b[0m\n\u001b[1;32m     33\u001b[0m                 \u001b[0mresults\u001b[0m\u001b[0;34m[\u001b[0m\u001b[0mi\u001b[0m\u001b[0;34m]\u001b[0m \u001b[0;34m+=\u001b[0m \u001b[0mresult\u001b[0m\u001b[0;34m\u001b[0m\u001b[0;34m\u001b[0m\u001b[0m\n",
      "\u001b[0;32m/var/folders/dy/bfqxrmw10w160dt3drl9_0f80000gn/T/ipykernel_31234/705152424.py\u001b[0m in \u001b[0;36m_calculate_EMTW_given_guess\u001b[0;34m(guess, wordlist, num_words, turn)\u001b[0m\n\u001b[1;32m     51\u001b[0m \u001b[0;34m\u001b[0m\u001b[0m\n\u001b[1;32m     52\u001b[0m \u001b[0;32mdef\u001b[0m \u001b[0m_calculate_EMTW_given_guess\u001b[0m\u001b[0;34m(\u001b[0m\u001b[0mguess\u001b[0m\u001b[0;34m,\u001b[0m \u001b[0mwordlist\u001b[0m\u001b[0;34m,\u001b[0m \u001b[0mnum_words\u001b[0m\u001b[0;34m,\u001b[0m \u001b[0mturn\u001b[0m\u001b[0;34m)\u001b[0m\u001b[0;34m:\u001b[0m\u001b[0;34m\u001b[0m\u001b[0;34m\u001b[0m\u001b[0m\n\u001b[0;32m---> 53\u001b[0;31m     \u001b[0mnext_wordlists\u001b[0m\u001b[0;34m,\u001b[0m \u001b[0mcounts\u001b[0m\u001b[0;34m,\u001b[0m \u001b[0mhint_indices\u001b[0m \u001b[0;34m=\u001b[0m \u001b[0mget_next_wordlists_and_counts_sparse\u001b[0m\u001b[0;34m(\u001b[0m\u001b[0mguess\u001b[0m\u001b[0;34m,\u001b[0m \u001b[0mwordlist\u001b[0m\u001b[0;34m,\u001b[0m \u001b[0mhints\u001b[0m\u001b[0;34m,\u001b[0m \u001b[0mcompatibilities\u001b[0m\u001b[0;34m)\u001b[0m\u001b[0;34m\u001b[0m\u001b[0;34m\u001b[0m\u001b[0m\n\u001b[0m\u001b[1;32m     54\u001b[0m     \u001b[0mnext_num_words\u001b[0m \u001b[0;34m=\u001b[0m \u001b[0mnext_wordlists\u001b[0m\u001b[0;34m.\u001b[0m\u001b[0msum\u001b[0m\u001b[0;34m(\u001b[0m\u001b[0maxis\u001b[0m\u001b[0;34m=\u001b[0m\u001b[0;36m1\u001b[0m\u001b[0;34m)\u001b[0m\u001b[0;34m\u001b[0m\u001b[0;34m\u001b[0m\u001b[0m\n\u001b[1;32m     55\u001b[0m     \u001b[0museless\u001b[0m \u001b[0;34m=\u001b[0m \u001b[0mnext_num_words\u001b[0m \u001b[0;34m==\u001b[0m \u001b[0mnum_words\u001b[0m\u001b[0;34m\u001b[0m\u001b[0;34m\u001b[0m\u001b[0m\n",
      "\u001b[0;32m/var/folders/dy/bfqxrmw10w160dt3drl9_0f80000gn/T/ipykernel_31234/555108809.py\u001b[0m in \u001b[0;36mget_next_wordlists_and_counts_sparse\u001b[0;34m(guess_index, wordlist, hints, compatibilities)\u001b[0m\n\u001b[1;32m     22\u001b[0m     \u001b[0mwordlists\u001b[0m \u001b[0;34m=\u001b[0m \u001b[0mwordlist\u001b[0m\u001b[0;34m[\u001b[0m\u001b[0mjnp\u001b[0m\u001b[0;34m.\u001b[0m\u001b[0mnewaxis\u001b[0m\u001b[0;34m,\u001b[0m \u001b[0;34m:\u001b[0m\u001b[0;34m]\u001b[0m \u001b[0;34m&\u001b[0m \u001b[0mcompatibilities\u001b[0m\u001b[0;34m[\u001b[0m\u001b[0mguess_index\u001b[0m\u001b[0;34m,\u001b[0m \u001b[0mhint_counts\u001b[0m\u001b[0;34m>\u001b[0m\u001b[0;36m0\u001b[0m\u001b[0;34m,\u001b[0m \u001b[0;34m:\u001b[0m\u001b[0;34m]\u001b[0m\u001b[0;34m\u001b[0m\u001b[0;34m\u001b[0m\u001b[0m\n\u001b[1;32m     23\u001b[0m     \u001b[0mhint_indices\u001b[0m \u001b[0;34m=\u001b[0m \u001b[0mjnp\u001b[0m\u001b[0;34m.\u001b[0m\u001b[0mwhere\u001b[0m\u001b[0;34m(\u001b[0m\u001b[0mhint_counts\u001b[0m\u001b[0;34m>\u001b[0m\u001b[0;36m0\u001b[0m\u001b[0;34m)\u001b[0m\u001b[0;34m[\u001b[0m\u001b[0;36m0\u001b[0m\u001b[0;34m]\u001b[0m\u001b[0;34m\u001b[0m\u001b[0;34m\u001b[0m\u001b[0m\n\u001b[0;32m---> 24\u001b[0;31m     \u001b[0;32mreturn\u001b[0m \u001b[0mwordlists\u001b[0m\u001b[0;34m,\u001b[0m \u001b[0mhint_counts\u001b[0m\u001b[0;34m[\u001b[0m\u001b[0mhint_counts\u001b[0m\u001b[0;34m>\u001b[0m\u001b[0;36m0\u001b[0m\u001b[0;34m]\u001b[0m\u001b[0;34m,\u001b[0m \u001b[0mhint_indices\u001b[0m\u001b[0;34m\u001b[0m\u001b[0;34m\u001b[0m\u001b[0m\n\u001b[0m",
      "\u001b[0;32m~/miniforge3/envs/py39/lib/python3.9/site-packages/jax/_src/numpy/lax_numpy.py\u001b[0m in \u001b[0;36m_rewriting_take\u001b[0;34m(arr, idx, indices_are_sorted, unique_indices, mode, fill_value)\u001b[0m\n\u001b[1;32m   5715\u001b[0m   \u001b[0marr\u001b[0m \u001b[0;34m=\u001b[0m \u001b[0masarray\u001b[0m\u001b[0;34m(\u001b[0m\u001b[0marr\u001b[0m\u001b[0;34m)\u001b[0m\u001b[0;34m\u001b[0m\u001b[0;34m\u001b[0m\u001b[0m\n\u001b[1;32m   5716\u001b[0m   \u001b[0mtreedef\u001b[0m\u001b[0;34m,\u001b[0m \u001b[0mstatic_idx\u001b[0m\u001b[0;34m,\u001b[0m \u001b[0mdynamic_idx\u001b[0m \u001b[0;34m=\u001b[0m \u001b[0m_split_index_for_jit\u001b[0m\u001b[0;34m(\u001b[0m\u001b[0midx\u001b[0m\u001b[0;34m,\u001b[0m \u001b[0marr\u001b[0m\u001b[0;34m.\u001b[0m\u001b[0mshape\u001b[0m\u001b[0;34m)\u001b[0m\u001b[0;34m\u001b[0m\u001b[0;34m\u001b[0m\u001b[0m\n\u001b[0;32m-> 5717\u001b[0;31m   return _gather(arr, treedef, static_idx, dynamic_idx, indices_are_sorted,\n\u001b[0m\u001b[1;32m   5718\u001b[0m                  unique_indices, mode, fill_value)\n\u001b[1;32m   5719\u001b[0m \u001b[0;34m\u001b[0m\u001b[0m\n",
      "\u001b[0;32m~/miniforge3/envs/py39/lib/python3.9/site-packages/jax/_src/numpy/lax_numpy.py\u001b[0m in \u001b[0;36m_gather\u001b[0;34m(arr, treedef, static_idx, dynamic_idx, indices_are_sorted, unique_indices, mode, fill_value)\u001b[0m\n\u001b[1;32m   5724\u001b[0m             unique_indices, mode, fill_value):\n\u001b[1;32m   5725\u001b[0m   \u001b[0midx\u001b[0m \u001b[0;34m=\u001b[0m \u001b[0m_merge_static_and_dynamic_indices\u001b[0m\u001b[0;34m(\u001b[0m\u001b[0mtreedef\u001b[0m\u001b[0;34m,\u001b[0m \u001b[0mstatic_idx\u001b[0m\u001b[0;34m,\u001b[0m \u001b[0mdynamic_idx\u001b[0m\u001b[0;34m)\u001b[0m\u001b[0;34m\u001b[0m\u001b[0;34m\u001b[0m\u001b[0m\n\u001b[0;32m-> 5726\u001b[0;31m   \u001b[0mindexer\u001b[0m \u001b[0;34m=\u001b[0m \u001b[0m_index_to_gather\u001b[0m\u001b[0;34m(\u001b[0m\u001b[0mshape\u001b[0m\u001b[0;34m(\u001b[0m\u001b[0marr\u001b[0m\u001b[0;34m)\u001b[0m\u001b[0;34m,\u001b[0m \u001b[0midx\u001b[0m\u001b[0;34m)\u001b[0m  \u001b[0;31m# shared with _scatter_update\u001b[0m\u001b[0;34m\u001b[0m\u001b[0;34m\u001b[0m\u001b[0m\n\u001b[0m\u001b[1;32m   5727\u001b[0m   \u001b[0my\u001b[0m \u001b[0;34m=\u001b[0m \u001b[0marr\u001b[0m\u001b[0;34m\u001b[0m\u001b[0;34m\u001b[0m\u001b[0m\n\u001b[1;32m   5728\u001b[0m \u001b[0;34m\u001b[0m\u001b[0m\n",
      "\u001b[0;32m~/miniforge3/envs/py39/lib/python3.9/site-packages/jax/_src/numpy/lax_numpy.py\u001b[0m in \u001b[0;36m_index_to_gather\u001b[0;34m(x_shape, idx, normalize_indices)\u001b[0m\n\u001b[1;32m   5851\u001b[0m       advanced_pairs = ((_normalize_index(e, x_shape[j]), i, j)\n\u001b[1;32m   5852\u001b[0m                         for e, i, j in advanced_pairs)\n\u001b[0;32m-> 5853\u001b[0;31m     \u001b[0madvanced_indexes\u001b[0m\u001b[0;34m,\u001b[0m \u001b[0midx_advanced_axes\u001b[0m\u001b[0;34m,\u001b[0m \u001b[0mx_advanced_axes\u001b[0m \u001b[0;34m=\u001b[0m \u001b[0mzip\u001b[0m\u001b[0;34m(\u001b[0m\u001b[0;34m*\u001b[0m\u001b[0madvanced_pairs\u001b[0m\u001b[0;34m)\u001b[0m\u001b[0;34m\u001b[0m\u001b[0;34m\u001b[0m\u001b[0m\n\u001b[0m\u001b[1;32m   5854\u001b[0m     \u001b[0madvanced_axes_are_contiguous\u001b[0m \u001b[0;34m=\u001b[0m \u001b[0mnp\u001b[0m\u001b[0;34m.\u001b[0m\u001b[0mall\u001b[0m\u001b[0;34m(\u001b[0m\u001b[0mnp\u001b[0m\u001b[0;34m.\u001b[0m\u001b[0mdiff\u001b[0m\u001b[0;34m(\u001b[0m\u001b[0midx_advanced_axes\u001b[0m\u001b[0;34m)\u001b[0m \u001b[0;34m==\u001b[0m \u001b[0;36m1\u001b[0m\u001b[0;34m)\u001b[0m\u001b[0;34m\u001b[0m\u001b[0;34m\u001b[0m\u001b[0m\n\u001b[1;32m   5855\u001b[0m \u001b[0;34m\u001b[0m\u001b[0m\n",
      "\u001b[0;32m~/miniforge3/envs/py39/lib/python3.9/site-packages/jax/_src/numpy/lax_numpy.py\u001b[0m in \u001b[0;36m<genexpr>\u001b[0;34m(.0)\u001b[0m\n\u001b[1;32m   5849\u001b[0m       if isscalar(e) or isinstance(e, (Sequence, ndarray, np.ndarray)))\n\u001b[1;32m   5850\u001b[0m     \u001b[0;32mif\u001b[0m \u001b[0mnormalize_indices\u001b[0m\u001b[0;34m:\u001b[0m\u001b[0;34m\u001b[0m\u001b[0;34m\u001b[0m\u001b[0m\n\u001b[0;32m-> 5851\u001b[0;31m       advanced_pairs = ((_normalize_index(e, x_shape[j]), i, j)\n\u001b[0m\u001b[1;32m   5852\u001b[0m                         for e, i, j in advanced_pairs)\n\u001b[1;32m   5853\u001b[0m     \u001b[0madvanced_indexes\u001b[0m\u001b[0;34m,\u001b[0m \u001b[0midx_advanced_axes\u001b[0m\u001b[0;34m,\u001b[0m \u001b[0mx_advanced_axes\u001b[0m \u001b[0;34m=\u001b[0m \u001b[0mzip\u001b[0m\u001b[0;34m(\u001b[0m\u001b[0;34m*\u001b[0m\u001b[0madvanced_pairs\u001b[0m\u001b[0;34m)\u001b[0m\u001b[0;34m\u001b[0m\u001b[0;34m\u001b[0m\u001b[0m\n",
      "\u001b[0;32m~/miniforge3/envs/py39/lib/python3.9/site-packages/jax/_src/numpy/lax_numpy.py\u001b[0m in \u001b[0;36m_normalize_index\u001b[0;34m(index, axis_size)\u001b[0m\n\u001b[1;32m   5522\u001b[0m     axis_size_val = lax.convert_element_type(core.dimension_as_value(axis_size),\n\u001b[1;32m   5523\u001b[0m                                              _dtype(index))\n\u001b[0;32m-> 5524\u001b[0;31m   return lax.select(\n\u001b[0m\u001b[1;32m   5525\u001b[0m     \u001b[0mlax\u001b[0m\u001b[0;34m.\u001b[0m\u001b[0mlt\u001b[0m\u001b[0;34m(\u001b[0m\u001b[0mindex\u001b[0m\u001b[0;34m,\u001b[0m \u001b[0m_constant_like\u001b[0m\u001b[0;34m(\u001b[0m\u001b[0mindex\u001b[0m\u001b[0;34m,\u001b[0m \u001b[0;36m0\u001b[0m\u001b[0;34m)\u001b[0m\u001b[0;34m)\u001b[0m\u001b[0;34m,\u001b[0m\u001b[0;34m\u001b[0m\u001b[0;34m\u001b[0m\u001b[0m\n\u001b[1;32m   5526\u001b[0m     \u001b[0mlax\u001b[0m\u001b[0;34m.\u001b[0m\u001b[0madd\u001b[0m\u001b[0;34m(\u001b[0m\u001b[0mindex\u001b[0m\u001b[0;34m,\u001b[0m \u001b[0maxis_size_val\u001b[0m\u001b[0;34m)\u001b[0m\u001b[0;34m,\u001b[0m\u001b[0;34m\u001b[0m\u001b[0;34m\u001b[0m\u001b[0m\n",
      "\u001b[0;32m~/miniforge3/envs/py39/lib/python3.9/site-packages/jax/_src/lax/lax.py\u001b[0m in \u001b[0;36mselect\u001b[0;34m(pred, on_true, on_false)\u001b[0m\n\u001b[1;32m    814\u001b[0m   \u001b[0moperator\u001b[0m\u001b[0;34m.\u001b[0m\u001b[0;34m\u001b[0m\u001b[0;34m\u001b[0m\u001b[0m\n\u001b[1;32m    815\u001b[0m   \"\"\"\n\u001b[0;32m--> 816\u001b[0;31m   \u001b[0;32mreturn\u001b[0m \u001b[0mselect_p\u001b[0m\u001b[0;34m.\u001b[0m\u001b[0mbind\u001b[0m\u001b[0;34m(\u001b[0m\u001b[0mpred\u001b[0m\u001b[0;34m,\u001b[0m \u001b[0mon_true\u001b[0m\u001b[0;34m,\u001b[0m \u001b[0mon_false\u001b[0m\u001b[0;34m)\u001b[0m\u001b[0;34m\u001b[0m\u001b[0;34m\u001b[0m\u001b[0m\n\u001b[0m\u001b[1;32m    817\u001b[0m \u001b[0;34m\u001b[0m\u001b[0m\n\u001b[1;32m    818\u001b[0m \u001b[0;32mdef\u001b[0m \u001b[0mtranspose\u001b[0m\u001b[0;34m(\u001b[0m\u001b[0moperand\u001b[0m\u001b[0;34m:\u001b[0m \u001b[0mArray\u001b[0m\u001b[0;34m,\u001b[0m \u001b[0mpermutation\u001b[0m\u001b[0;34m:\u001b[0m \u001b[0mSequence\u001b[0m\u001b[0;34m[\u001b[0m\u001b[0mint\u001b[0m\u001b[0;34m]\u001b[0m\u001b[0;34m)\u001b[0m \u001b[0;34m->\u001b[0m \u001b[0mArray\u001b[0m\u001b[0;34m:\u001b[0m\u001b[0;34m\u001b[0m\u001b[0;34m\u001b[0m\u001b[0m\n",
      "\u001b[0;32m~/miniforge3/envs/py39/lib/python3.9/site-packages/jax/core.py\u001b[0m in \u001b[0;36mbind\u001b[0;34m(self, *args, **params)\u001b[0m\n\u001b[1;32m    272\u001b[0m     assert (not config.jax_enable_checks or\n\u001b[1;32m    273\u001b[0m             all(isinstance(arg, Tracer) or valid_jaxtype(arg) for arg in args)), args\n\u001b[0;32m--> 274\u001b[0;31m     \u001b[0;32mreturn\u001b[0m \u001b[0mself\u001b[0m\u001b[0;34m.\u001b[0m\u001b[0mbind_with_trace\u001b[0m\u001b[0;34m(\u001b[0m\u001b[0mfind_top_trace\u001b[0m\u001b[0;34m(\u001b[0m\u001b[0margs\u001b[0m\u001b[0;34m)\u001b[0m\u001b[0;34m,\u001b[0m \u001b[0margs\u001b[0m\u001b[0;34m,\u001b[0m \u001b[0mparams\u001b[0m\u001b[0;34m)\u001b[0m\u001b[0;34m\u001b[0m\u001b[0;34m\u001b[0m\u001b[0m\n\u001b[0m\u001b[1;32m    275\u001b[0m \u001b[0;34m\u001b[0m\u001b[0m\n\u001b[1;32m    276\u001b[0m   \u001b[0;32mdef\u001b[0m \u001b[0mbind_with_trace\u001b[0m\u001b[0;34m(\u001b[0m\u001b[0mself\u001b[0m\u001b[0;34m,\u001b[0m \u001b[0mtrace\u001b[0m\u001b[0;34m,\u001b[0m \u001b[0margs\u001b[0m\u001b[0;34m,\u001b[0m \u001b[0mparams\u001b[0m\u001b[0;34m)\u001b[0m\u001b[0;34m:\u001b[0m\u001b[0;34m\u001b[0m\u001b[0;34m\u001b[0m\u001b[0m\n",
      "\u001b[0;32m~/miniforge3/envs/py39/lib/python3.9/site-packages/jax/core.py\u001b[0m in \u001b[0;36mbind_with_trace\u001b[0;34m(self, trace, args, params)\u001b[0m\n\u001b[1;32m    275\u001b[0m \u001b[0;34m\u001b[0m\u001b[0m\n\u001b[1;32m    276\u001b[0m   \u001b[0;32mdef\u001b[0m \u001b[0mbind_with_trace\u001b[0m\u001b[0;34m(\u001b[0m\u001b[0mself\u001b[0m\u001b[0;34m,\u001b[0m \u001b[0mtrace\u001b[0m\u001b[0;34m,\u001b[0m \u001b[0margs\u001b[0m\u001b[0;34m,\u001b[0m \u001b[0mparams\u001b[0m\u001b[0;34m)\u001b[0m\u001b[0;34m:\u001b[0m\u001b[0;34m\u001b[0m\u001b[0;34m\u001b[0m\u001b[0m\n\u001b[0;32m--> 277\u001b[0;31m     \u001b[0mout\u001b[0m \u001b[0;34m=\u001b[0m \u001b[0mtrace\u001b[0m\u001b[0;34m.\u001b[0m\u001b[0mprocess_primitive\u001b[0m\u001b[0;34m(\u001b[0m\u001b[0mself\u001b[0m\u001b[0;34m,\u001b[0m \u001b[0mmap\u001b[0m\u001b[0;34m(\u001b[0m\u001b[0mtrace\u001b[0m\u001b[0;34m.\u001b[0m\u001b[0mfull_raise\u001b[0m\u001b[0;34m,\u001b[0m \u001b[0margs\u001b[0m\u001b[0;34m)\u001b[0m\u001b[0;34m,\u001b[0m \u001b[0mparams\u001b[0m\u001b[0;34m)\u001b[0m\u001b[0;34m\u001b[0m\u001b[0;34m\u001b[0m\u001b[0m\n\u001b[0m\u001b[1;32m    278\u001b[0m     \u001b[0;32mreturn\u001b[0m \u001b[0mmap\u001b[0m\u001b[0;34m(\u001b[0m\u001b[0mfull_lower\u001b[0m\u001b[0;34m,\u001b[0m \u001b[0mout\u001b[0m\u001b[0;34m)\u001b[0m \u001b[0;32mif\u001b[0m \u001b[0mself\u001b[0m\u001b[0;34m.\u001b[0m\u001b[0mmultiple_results\u001b[0m \u001b[0;32melse\u001b[0m \u001b[0mfull_lower\u001b[0m\u001b[0;34m(\u001b[0m\u001b[0mout\u001b[0m\u001b[0;34m)\u001b[0m\u001b[0;34m\u001b[0m\u001b[0;34m\u001b[0m\u001b[0m\n\u001b[1;32m    279\u001b[0m \u001b[0;34m\u001b[0m\u001b[0m\n",
      "\u001b[0;32m~/miniforge3/envs/py39/lib/python3.9/site-packages/jax/core.py\u001b[0m in \u001b[0;36mprocess_primitive\u001b[0;34m(self, primitive, tracers, params)\u001b[0m\n\u001b[1;32m    591\u001b[0m \u001b[0;34m\u001b[0m\u001b[0m\n\u001b[1;32m    592\u001b[0m   \u001b[0;32mdef\u001b[0m \u001b[0mprocess_primitive\u001b[0m\u001b[0;34m(\u001b[0m\u001b[0mself\u001b[0m\u001b[0;34m,\u001b[0m \u001b[0mprimitive\u001b[0m\u001b[0;34m,\u001b[0m \u001b[0mtracers\u001b[0m\u001b[0;34m,\u001b[0m \u001b[0mparams\u001b[0m\u001b[0;34m)\u001b[0m\u001b[0;34m:\u001b[0m\u001b[0;34m\u001b[0m\u001b[0;34m\u001b[0m\u001b[0m\n\u001b[0;32m--> 593\u001b[0;31m     \u001b[0;32mreturn\u001b[0m \u001b[0mprimitive\u001b[0m\u001b[0;34m.\u001b[0m\u001b[0mimpl\u001b[0m\u001b[0;34m(\u001b[0m\u001b[0;34m*\u001b[0m\u001b[0mtracers\u001b[0m\u001b[0;34m,\u001b[0m \u001b[0;34m**\u001b[0m\u001b[0mparams\u001b[0m\u001b[0;34m)\u001b[0m\u001b[0;34m\u001b[0m\u001b[0;34m\u001b[0m\u001b[0m\n\u001b[0m\u001b[1;32m    594\u001b[0m \u001b[0;34m\u001b[0m\u001b[0m\n\u001b[1;32m    595\u001b[0m   \u001b[0;32mdef\u001b[0m \u001b[0mprocess_call\u001b[0m\u001b[0;34m(\u001b[0m\u001b[0mself\u001b[0m\u001b[0;34m,\u001b[0m \u001b[0mprimitive\u001b[0m\u001b[0;34m,\u001b[0m \u001b[0mf\u001b[0m\u001b[0;34m,\u001b[0m \u001b[0mtracers\u001b[0m\u001b[0;34m,\u001b[0m \u001b[0mparams\u001b[0m\u001b[0;34m)\u001b[0m\u001b[0;34m:\u001b[0m\u001b[0;34m\u001b[0m\u001b[0;34m\u001b[0m\u001b[0m\n",
      "\u001b[0;32m~/miniforge3/envs/py39/lib/python3.9/site-packages/jax/_src/dispatch.py\u001b[0m in \u001b[0;36mapply_primitive\u001b[0;34m(prim, *args, **params)\u001b[0m\n\u001b[1;32m     92\u001b[0m   compiled_fun = xla_primitive_callable(prim, *unsafe_map(arg_spec, args),\n\u001b[1;32m     93\u001b[0m                                         **params)\n\u001b[0;32m---> 94\u001b[0;31m   \u001b[0;32mreturn\u001b[0m \u001b[0mcompiled_fun\u001b[0m\u001b[0;34m(\u001b[0m\u001b[0;34m*\u001b[0m\u001b[0margs\u001b[0m\u001b[0;34m)\u001b[0m\u001b[0;34m\u001b[0m\u001b[0;34m\u001b[0m\u001b[0m\n\u001b[0m\u001b[1;32m     95\u001b[0m \u001b[0;34m\u001b[0m\u001b[0m\n\u001b[1;32m     96\u001b[0m \u001b[0;31m# TODO(phawkins): update code referring to xla.apply_primitive to point here.\u001b[0m\u001b[0;34m\u001b[0m\u001b[0;34m\u001b[0m\u001b[0m\n",
      "\u001b[0;32m~/miniforge3/envs/py39/lib/python3.9/site-packages/jax/_src/dispatch.py\u001b[0m in \u001b[0;36m<lambda>\u001b[0;34m(*args, **kw)\u001b[0m\n\u001b[1;32m    112\u001b[0m                                     prim.name, donated_invars, *arg_specs)\n\u001b[1;32m    113\u001b[0m   \u001b[0;32mif\u001b[0m \u001b[0;32mnot\u001b[0m \u001b[0mprim\u001b[0m\u001b[0;34m.\u001b[0m\u001b[0mmultiple_results\u001b[0m\u001b[0;34m:\u001b[0m\u001b[0;34m\u001b[0m\u001b[0;34m\u001b[0m\u001b[0m\n\u001b[0;32m--> 114\u001b[0;31m     \u001b[0;32mreturn\u001b[0m \u001b[0;32mlambda\u001b[0m \u001b[0;34m*\u001b[0m\u001b[0margs\u001b[0m\u001b[0;34m,\u001b[0m \u001b[0;34m**\u001b[0m\u001b[0mkw\u001b[0m\u001b[0;34m:\u001b[0m \u001b[0mcompiled\u001b[0m\u001b[0;34m(\u001b[0m\u001b[0;34m*\u001b[0m\u001b[0margs\u001b[0m\u001b[0;34m,\u001b[0m \u001b[0;34m**\u001b[0m\u001b[0mkw\u001b[0m\u001b[0;34m)\u001b[0m\u001b[0;34m[\u001b[0m\u001b[0;36m0\u001b[0m\u001b[0;34m]\u001b[0m\u001b[0;34m\u001b[0m\u001b[0;34m\u001b[0m\u001b[0m\n\u001b[0m\u001b[1;32m    115\u001b[0m   \u001b[0;32melse\u001b[0m\u001b[0;34m:\u001b[0m\u001b[0;34m\u001b[0m\u001b[0;34m\u001b[0m\u001b[0m\n\u001b[1;32m    116\u001b[0m     \u001b[0;32mreturn\u001b[0m \u001b[0mcompiled\u001b[0m\u001b[0;34m\u001b[0m\u001b[0;34m\u001b[0m\u001b[0m\n",
      "\u001b[0;32m~/miniforge3/envs/py39/lib/python3.9/site-packages/jax/_src/dispatch.py\u001b[0m in \u001b[0;36m_execute_compiled\u001b[0;34m(name, compiled, output_buffer_counts, result_handlers, kept_var_idx, *args)\u001b[0m\n\u001b[1;32m    440\u001b[0m                       result_handlers, kept_var_idx, *args):\n\u001b[1;32m    441\u001b[0m   \u001b[0mdevice\u001b[0m\u001b[0;34m,\u001b[0m \u001b[0;34m=\u001b[0m \u001b[0mcompiled\u001b[0m\u001b[0;34m.\u001b[0m\u001b[0mlocal_devices\u001b[0m\u001b[0;34m(\u001b[0m\u001b[0;34m)\u001b[0m\u001b[0;34m\u001b[0m\u001b[0;34m\u001b[0m\u001b[0m\n\u001b[0;32m--> 442\u001b[0;31m   input_bufs = util.flatten(\n\u001b[0m\u001b[1;32m    443\u001b[0m       device_put(x, device) for i, x in enumerate(args) if i in kept_var_idx)\n\u001b[1;32m    444\u001b[0m   \u001b[0mout_bufs\u001b[0m \u001b[0;34m=\u001b[0m \u001b[0mcompiled\u001b[0m\u001b[0;34m.\u001b[0m\u001b[0mexecute\u001b[0m\u001b[0;34m(\u001b[0m\u001b[0minput_bufs\u001b[0m\u001b[0;34m)\u001b[0m\u001b[0;34m\u001b[0m\u001b[0;34m\u001b[0m\u001b[0m\n",
      "\u001b[0;32m~/miniforge3/envs/py39/lib/python3.9/site-packages/jax/_src/util.py\u001b[0m in \u001b[0;36mconcatenate\u001b[0;34m(xs)\u001b[0m\n\u001b[1;32m     92\u001b[0m \u001b[0;32mdef\u001b[0m \u001b[0mconcatenate\u001b[0m\u001b[0;34m(\u001b[0m\u001b[0mxs\u001b[0m\u001b[0;34m:\u001b[0m \u001b[0mIterable\u001b[0m\u001b[0;34m[\u001b[0m\u001b[0mSequence\u001b[0m\u001b[0;34m[\u001b[0m\u001b[0mT\u001b[0m\u001b[0;34m]\u001b[0m\u001b[0;34m]\u001b[0m\u001b[0;34m)\u001b[0m \u001b[0;34m->\u001b[0m \u001b[0mList\u001b[0m\u001b[0;34m[\u001b[0m\u001b[0mT\u001b[0m\u001b[0;34m]\u001b[0m\u001b[0;34m:\u001b[0m\u001b[0;34m\u001b[0m\u001b[0;34m\u001b[0m\u001b[0m\n\u001b[1;32m     93\u001b[0m   \u001b[0;34m\"\"\"Concatenates/flattens a list of lists.\"\"\"\u001b[0m\u001b[0;34m\u001b[0m\u001b[0;34m\u001b[0m\u001b[0m\n\u001b[0;32m---> 94\u001b[0;31m   \u001b[0;32mreturn\u001b[0m \u001b[0mlist\u001b[0m\u001b[0;34m(\u001b[0m\u001b[0mit\u001b[0m\u001b[0;34m.\u001b[0m\u001b[0mchain\u001b[0m\u001b[0;34m.\u001b[0m\u001b[0mfrom_iterable\u001b[0m\u001b[0;34m(\u001b[0m\u001b[0mxs\u001b[0m\u001b[0;34m)\u001b[0m\u001b[0;34m)\u001b[0m\u001b[0;34m\u001b[0m\u001b[0;34m\u001b[0m\u001b[0m\n\u001b[0m\u001b[1;32m     95\u001b[0m \u001b[0;34m\u001b[0m\u001b[0m\n\u001b[1;32m     96\u001b[0m \u001b[0mflatten\u001b[0m \u001b[0;34m=\u001b[0m \u001b[0mconcatenate\u001b[0m\u001b[0;34m\u001b[0m\u001b[0;34m\u001b[0m\u001b[0m\n",
      "\u001b[0;32m~/miniforge3/envs/py39/lib/python3.9/site-packages/jax/_src/dispatch.py\u001b[0m in \u001b[0;36m<genexpr>\u001b[0;34m(.0)\u001b[0m\n\u001b[1;32m    441\u001b[0m   \u001b[0mdevice\u001b[0m\u001b[0;34m,\u001b[0m \u001b[0;34m=\u001b[0m \u001b[0mcompiled\u001b[0m\u001b[0;34m.\u001b[0m\u001b[0mlocal_devices\u001b[0m\u001b[0;34m(\u001b[0m\u001b[0;34m)\u001b[0m\u001b[0;34m\u001b[0m\u001b[0;34m\u001b[0m\u001b[0m\n\u001b[1;32m    442\u001b[0m   input_bufs = util.flatten(\n\u001b[0;32m--> 443\u001b[0;31m       device_put(x, device) for i, x in enumerate(args) if i in kept_var_idx)\n\u001b[0m\u001b[1;32m    444\u001b[0m   \u001b[0mout_bufs\u001b[0m \u001b[0;34m=\u001b[0m \u001b[0mcompiled\u001b[0m\u001b[0;34m.\u001b[0m\u001b[0mexecute\u001b[0m\u001b[0;34m(\u001b[0m\u001b[0minput_bufs\u001b[0m\u001b[0;34m)\u001b[0m\u001b[0;34m\u001b[0m\u001b[0;34m\u001b[0m\u001b[0m\n\u001b[1;32m    445\u001b[0m   \u001b[0mcheck_special\u001b[0m\u001b[0;34m(\u001b[0m\u001b[0mname\u001b[0m\u001b[0;34m,\u001b[0m \u001b[0mout_bufs\u001b[0m\u001b[0;34m)\u001b[0m\u001b[0;34m\u001b[0m\u001b[0;34m\u001b[0m\u001b[0m\n",
      "\u001b[0;32m~/miniforge3/envs/py39/lib/python3.9/site-packages/jax/_src/dispatch.py\u001b[0m in \u001b[0;36mdevice_put\u001b[0;34m(x, device)\u001b[0m\n\u001b[1;32m    657\u001b[0m   \u001b[0mx\u001b[0m \u001b[0;34m=\u001b[0m \u001b[0mxla\u001b[0m\u001b[0;34m.\u001b[0m\u001b[0mcanonicalize_dtype\u001b[0m\u001b[0;34m(\u001b[0m\u001b[0mx\u001b[0m\u001b[0;34m)\u001b[0m\u001b[0;34m\u001b[0m\u001b[0;34m\u001b[0m\u001b[0m\n\u001b[1;32m    658\u001b[0m   \u001b[0;32mtry\u001b[0m\u001b[0;34m:\u001b[0m\u001b[0;34m\u001b[0m\u001b[0;34m\u001b[0m\u001b[0m\n\u001b[0;32m--> 659\u001b[0;31m     \u001b[0;32mreturn\u001b[0m \u001b[0mdevice_put_handlers\u001b[0m\u001b[0;34m[\u001b[0m\u001b[0mtype\u001b[0m\u001b[0;34m(\u001b[0m\u001b[0mx\u001b[0m\u001b[0;34m)\u001b[0m\u001b[0;34m]\u001b[0m\u001b[0;34m(\u001b[0m\u001b[0mx\u001b[0m\u001b[0;34m,\u001b[0m \u001b[0mdevice\u001b[0m\u001b[0;34m)\u001b[0m\u001b[0;34m\u001b[0m\u001b[0;34m\u001b[0m\u001b[0m\n\u001b[0m\u001b[1;32m    660\u001b[0m   \u001b[0;32mexcept\u001b[0m \u001b[0mKeyError\u001b[0m \u001b[0;32mas\u001b[0m \u001b[0merr\u001b[0m\u001b[0;34m:\u001b[0m\u001b[0;34m\u001b[0m\u001b[0;34m\u001b[0m\u001b[0m\n\u001b[1;32m    661\u001b[0m     \u001b[0;32mraise\u001b[0m \u001b[0mTypeError\u001b[0m\u001b[0;34m(\u001b[0m\u001b[0;34mf\"No device_put handler for type: {type(x)}\"\u001b[0m\u001b[0;34m)\u001b[0m \u001b[0;32mfrom\u001b[0m \u001b[0merr\u001b[0m\u001b[0;34m\u001b[0m\u001b[0;34m\u001b[0m\u001b[0m\n",
      "\u001b[0;32m~/miniforge3/envs/py39/lib/python3.9/site-packages/jax/_src/dispatch.py\u001b[0m in \u001b[0;36m_device_put_device_array\u001b[0;34m(x, device)\u001b[0m\n\u001b[1;32m    693\u001b[0m \u001b[0;34m\u001b[0m\u001b[0m\n\u001b[1;32m    694\u001b[0m \u001b[0;32mdef\u001b[0m \u001b[0m_device_put_device_array\u001b[0m\u001b[0;34m(\u001b[0m\u001b[0mx\u001b[0m\u001b[0;34m:\u001b[0m \u001b[0mUnion\u001b[0m\u001b[0;34m[\u001b[0m\u001b[0mdevice_array\u001b[0m\u001b[0;34m.\u001b[0m\u001b[0mDeviceArrayProtocol\u001b[0m\u001b[0;34m,\u001b[0m \u001b[0mdevice_array\u001b[0m\u001b[0;34m.\u001b[0m\u001b[0m_DeviceArray\u001b[0m\u001b[0;34m]\u001b[0m\u001b[0;34m,\u001b[0m \u001b[0mdevice\u001b[0m\u001b[0;34m:\u001b[0m \u001b[0mOptional\u001b[0m\u001b[0;34m[\u001b[0m\u001b[0mDevice\u001b[0m\u001b[0;34m]\u001b[0m\u001b[0;34m)\u001b[0m\u001b[0;34m:\u001b[0m\u001b[0;34m\u001b[0m\u001b[0;34m\u001b[0m\u001b[0m\n\u001b[0;32m--> 695\u001b[0;31m   \u001b[0mx\u001b[0m \u001b[0;34m=\u001b[0m \u001b[0m_copy_device_array_to_device\u001b[0m\u001b[0;34m(\u001b[0m\u001b[0mx\u001b[0m\u001b[0;34m,\u001b[0m \u001b[0mdevice\u001b[0m\u001b[0;34m)\u001b[0m\u001b[0;34m\u001b[0m\u001b[0;34m\u001b[0m\u001b[0m\n\u001b[0m\u001b[1;32m    696\u001b[0m   \u001b[0;32mreturn\u001b[0m \u001b[0;34m(\u001b[0m\u001b[0mx\u001b[0m\u001b[0;34m.\u001b[0m\u001b[0mdevice_buffer\u001b[0m\u001b[0;34m,\u001b[0m\u001b[0;34m)\u001b[0m\u001b[0;34m\u001b[0m\u001b[0;34m\u001b[0m\u001b[0m\n\u001b[1;32m    697\u001b[0m \u001b[0;32mfor\u001b[0m \u001b[0mt\u001b[0m \u001b[0;32min\u001b[0m \u001b[0mdevice_array\u001b[0m\u001b[0;34m.\u001b[0m\u001b[0mdevice_array_types\u001b[0m\u001b[0;34m:\u001b[0m\u001b[0;34m\u001b[0m\u001b[0;34m\u001b[0m\u001b[0m\n",
      "\u001b[0;32m~/miniforge3/envs/py39/lib/python3.9/site-packages/jax/_src/dispatch.py\u001b[0m in \u001b[0;36m_copy_device_array_to_device\u001b[0;34m(x, device)\u001b[0m\n\u001b[1;32m    717\u001b[0m     \u001b[0mbackend\u001b[0m \u001b[0;34m=\u001b[0m \u001b[0mxb\u001b[0m\u001b[0;34m.\u001b[0m\u001b[0mget_device_backend\u001b[0m\u001b[0;34m(\u001b[0m\u001b[0mdevice\u001b[0m\u001b[0;34m)\u001b[0m\u001b[0;34m\u001b[0m\u001b[0;34m\u001b[0m\u001b[0m\n\u001b[1;32m    718\u001b[0m     \u001b[0mmoved_buf\u001b[0m \u001b[0;34m=\u001b[0m \u001b[0mbackend\u001b[0m\u001b[0;34m.\u001b[0m\u001b[0mbuffer_from_pyval\u001b[0m\u001b[0;34m(\u001b[0m\u001b[0mx\u001b[0m\u001b[0;34m.\u001b[0m\u001b[0mdevice_buffer\u001b[0m\u001b[0;34m.\u001b[0m\u001b[0mto_py\u001b[0m\u001b[0;34m(\u001b[0m\u001b[0;34m)\u001b[0m\u001b[0;34m,\u001b[0m \u001b[0mdevice\u001b[0m\u001b[0;34m)\u001b[0m\u001b[0;34m\u001b[0m\u001b[0;34m\u001b[0m\u001b[0m\n\u001b[0;32m--> 719\u001b[0;31m   \u001b[0;32mreturn\u001b[0m \u001b[0mdevice_array\u001b[0m\u001b[0;34m.\u001b[0m\u001b[0mmake_device_array\u001b[0m\u001b[0;34m(\u001b[0m\u001b[0mx\u001b[0m\u001b[0;34m.\u001b[0m\u001b[0maval\u001b[0m\u001b[0;34m,\u001b[0m \u001b[0mdevice\u001b[0m\u001b[0;34m,\u001b[0m \u001b[0mmoved_buf\u001b[0m\u001b[0;34m)\u001b[0m\u001b[0;34m\u001b[0m\u001b[0;34m\u001b[0m\u001b[0m\n\u001b[0m\u001b[1;32m    720\u001b[0m \u001b[0;34m\u001b[0m\u001b[0m\n\u001b[1;32m    721\u001b[0m \u001b[0;34m\u001b[0m\u001b[0m\n",
      "\u001b[0;32m~/miniforge3/envs/py39/lib/python3.9/site-packages/jax/_src/device_array.py\u001b[0m in \u001b[0;36mmake_device_array\u001b[0;34m(aval, device, device_buffer)\u001b[0m\n\u001b[1;32m     62\u001b[0m     \u001b[0;32mif\u001b[0m \u001b[0mdevice_buffer\u001b[0m\u001b[0;34m.\u001b[0m\u001b[0maval\u001b[0m \u001b[0;34m==\u001b[0m \u001b[0maval\u001b[0m \u001b[0;32mand\u001b[0m \u001b[0mdevice_buffer\u001b[0m\u001b[0;34m.\u001b[0m\u001b[0m_device\u001b[0m \u001b[0;34m==\u001b[0m \u001b[0mdevice\u001b[0m\u001b[0;34m:\u001b[0m\u001b[0;34m\u001b[0m\u001b[0;34m\u001b[0m\u001b[0m\n\u001b[1;32m     63\u001b[0m       \u001b[0;32mreturn\u001b[0m \u001b[0mdevice_buffer\u001b[0m\u001b[0;34m\u001b[0m\u001b[0;34m\u001b[0m\u001b[0m\n\u001b[0;32m---> 64\u001b[0;31m     \u001b[0mdevice_buffer\u001b[0m \u001b[0;34m=\u001b[0m \u001b[0mdevice_buffer\u001b[0m\u001b[0;34m.\u001b[0m\u001b[0mclone\u001b[0m\u001b[0;34m(\u001b[0m\u001b[0;34m)\u001b[0m\u001b[0;34m\u001b[0m\u001b[0;34m\u001b[0m\u001b[0m\n\u001b[0m\u001b[1;32m     65\u001b[0m     \u001b[0mdevice_buffer\u001b[0m\u001b[0;34m.\u001b[0m\u001b[0m_device\u001b[0m \u001b[0;34m=\u001b[0m \u001b[0mdevice\u001b[0m\u001b[0;34m\u001b[0m\u001b[0;34m\u001b[0m\u001b[0m\n\u001b[1;32m     66\u001b[0m     \u001b[0mdevice_buffer\u001b[0m\u001b[0;34m.\u001b[0m\u001b[0maval\u001b[0m \u001b[0;34m=\u001b[0m \u001b[0maval\u001b[0m\u001b[0;34m\u001b[0m\u001b[0;34m\u001b[0m\u001b[0m\n",
      "\u001b[0;31mKeyboardInterrupt\u001b[0m: "
     ]
    }
   ],
   "source": [
    "def calculate_expectation_breadth_first_yield(f, values, probabilities, *args, **kwargs):\n",
    "    \"\"\"\n",
    "    Calculates the expectation of f(values) given the probabilities.\n",
    "    \"\"\"\n",
    "    iterators = [(p, f(x, *args, **kwargs)) for x, p in zip(values, probabilities)]\n",
    "    assert np.isclose(sum(p for p, _ in iterators), 1), f\"Expected sum of probabilities to be 1, got {sum(p for p, _ in iterators)}\"\n",
    "    while iterators:\n",
    "        for i in reversed(range(len(iterators))):\n",
    "            (p, it) = iterators[i]\n",
    "            try:\n",
    "                dx = next(it)\n",
    "                assert dx>=0, f\"Expected non-negative result, got {dx}\"\n",
    "                yield p*dx\n",
    "            except StopIteration:\n",
    "                iterators.pop(i)\n",
    "            \n",
    "def min_breadth_first_yield(f, values, *args, **kwargs):\n",
    "    \"\"\"\n",
    "    Finds the value that maximizes f(value, *args, **kwargs). Repeatedly yields candidate values.\n",
    "    The last value yielded is the minimum.\n",
    "    \"\"\"\n",
    "    iterators = [(i, f(x, *args, **kwargs)) for i, x in enumerate(values)]\n",
    "    results = [0] * len(values)\n",
    "    prev_yielded = 0\n",
    "    upper_bound = np.inf # The lowest value of a completed iterator so far\n",
    "    while iterators:\n",
    "        smallest_result_this_iteration = None\n",
    "        for j in reversed(range(len(iterators))):\n",
    "            (i, it) = iterators[j]\n",
    "            try:\n",
    "                result = next(it)\n",
    "                assert result >= 0, f\"Expected non-negative result, got {result}\"\n",
    "                results[i] += result\n",
    "                if smallest_result_this_iteration is None or results[i] < smallest_result_this_iteration:\n",
    "                    smallest_result_this_iteration = results[i]\n",
    "                if results[i] >= upper_bound:\n",
    "                    iterators.pop(j)\n",
    "            except StopIteration:\n",
    "                iterators.pop(j)\n",
    "                if results[i] < upper_bound:\n",
    "                    upper_bound = results[i]\n",
    "        if smallest_result_this_iteration is not None:\n",
    "            yield smallest_result_this_iteration - prev_yielded\n",
    "            prev_yielded = smallest_result_this_iteration\n",
    "\n",
    "def calculate_expectation_jax(f, values, probabilities, *args, **kwargs):\n",
    "    \"\"\"\n",
    "    Calculates the expectation of f(values) given the probabilities.\n",
    "    \"\"\"\n",
    "    return jnp.sum(probabilities * vmap(f, in_axes=0)(values, *args, **kwargs))\n",
    "\n",
    "def _calculate_EMTW_given_guess(guess, wordlist, num_words, turn):\n",
    "    next_wordlists, counts, hint_indices = get_next_wordlists_and_counts_sparse(guess, wordlist, hints, compatibilities)\n",
    "    next_num_words = next_wordlists.sum(axis=1)\n",
    "    useless = next_num_words == num_words\n",
    "    num_words -= counts[useless].sum()\n",
    "    if num_words > 0:\n",
    "        next_wordlists = next_wordlists[~useless]\n",
    "        counts = counts[~useless]\n",
    "        probabilities = counts / num_words\n",
    "        assert np.isclose(probabilities.sum(), 1), f\"{probabilities.sum()} != 1\"\n",
    "        yield from calculate_expectation_breadth_first_yield(calculate_EMTW, next_wordlists, probabilities, turn=turn)\n",
    "\n",
    "PRINT_TURNS = 0\n",
    "MAX_TURNS = 6\n",
    "def calculate_EMTW(wordlist, turn=0):\n",
    "    \"\"\"\n",
    "    Calculates the expected minimum time to win for the given wordlist and the optimal strategy.\n",
    "    \"\"\"\n",
    "    if turn <= PRINT_TURNS:\n",
    "        print(f\"Turn {turn} with {wordlist.sum()} words remaining\")\n",
    "    num_words = wordlist.sum()\n",
    "    if turn >= MAX_TURNS:\n",
    "        yield jnp.inf\n",
    "    elif num_words == 0:\n",
    "        raise ValueError(\"No words left in wordlist\")\n",
    "    elif num_words == 1:\n",
    "        yield 1\n",
    "    else:\n",
    "        yield 1\n",
    "        yield from min_breadth_first_yield(_calculate_EMTW_given_guess, range(NUM_GUESSES), wordlist=wordlist, num_words=num_words, turn=turn+1)\n",
    "\n",
    "word = 6\n",
    "wordlist = FULL_WORDLIST\n",
    "# guess = 0\n",
    "# hint = get_hint(word, guess, hints)\n",
    "# wordlist = wordlist & get_compatible_words(guess, hint, compatibilities)\n",
    "# guess = 1\n",
    "# hint = get_hint(word, guess, hints)\n",
    "# wordlist = wordlist & get_compatible_words(guess, hint, compatibilities)\n",
    "# guess = 5\n",
    "# hint = get_hint(word, guess, hints)\n",
    "# wordlist = wordlist & get_compatible_words(guess, hint, compatibilities)\n",
    "print(wordlist.sum())\n",
    "\n",
    "EMTW = 0\n",
    "for x in calculate_EMTW(wordlist):\n",
    "    EMTW += x\n",
    "    print(EMTW, x)"
   ]
  },
  {
   "cell_type": "code",
   "execution_count": 36,
   "metadata": {},
   "outputs": [
    {
     "data": {
      "text/plain": [
       "DeviceArray(3, dtype=int32)"
      ]
     },
     "execution_count": 36,
     "metadata": {},
     "output_type": "execute_result"
    }
   ],
   "source": [
    "hint"
   ]
  },
  {
   "cell_type": "code",
   "execution_count": 13,
   "metadata": {},
   "outputs": [
    {
     "data": {
      "text/plain": [
       "DeviceArray([ 5, 14,  2,  0, 11], dtype=int8)"
      ]
     },
     "execution_count": 13,
     "metadata": {},
     "output_type": "execute_result"
    }
   ],
   "source": [
    "guesses[6]"
   ]
  },
  {
   "cell_type": "code",
   "execution_count": 14,
   "metadata": {},
   "outputs": [
    {
     "data": {
      "text/plain": [
       "DeviceArray([ 5, 14,  2,  0, 11], dtype=int8)"
      ]
     },
     "execution_count": 14,
     "metadata": {},
     "output_type": "execute_result"
    }
   ],
   "source": [
    "words[6]"
   ]
  },
  {
   "cell_type": "code",
   "execution_count": 15,
   "metadata": {},
   "outputs": [
    {
     "name": "stdout",
     "output_type": "stream",
     "text": [
      "2\n",
      "Turns: 1, Expected words remaining: 217.58099365234375, Expected hint configs: 84.65799713134766, Expected cumulative steps to store: 1096067.125\n",
      "Turns: 2, Expected words remaining: 37.70100021362305, Expected hint configs: 19.941999435424805, Expected cumulative steps to store: 282992574464.0\n",
      "Turns: 3, Expected words remaining: 11.404999732971191, Expected hint configs: 6.3420000076293945, Expected cumulative steps to store: 2.323648388844749e+16\n",
      "Turns: 4, Expected words remaining: 4.7870001792907715, Expected hint configs: 3.0280001163482666, Expected cumulative steps to store: 9.109518927212524e+20\n",
      "Turns: 5, Expected words remaining: 2.434999942779541, Expected hint configs: 1.8480000495910645, Expected cumulative steps to store: 2.179548759418847e+25\n",
      "Turns: 6, Expected words remaining: 1.9170000553131104, Expected hint configs: 1.4229999780654907, Expected cumulative steps to store: 4.015509067298246e+29\n"
     ]
    }
   ],
   "source": [
    "def words_remaining_after_guesses(word, *guesses):\n",
    "    \"\"\"\n",
    "    Calculates the number of turns it takes to win the game with the given word and guesses.\n",
    "    \"\"\"\n",
    "    wordlist = get_compatible_words(guesses[0], get_hint(word, guesses[0], hints), compatibilities)\n",
    "    for guess in guesses[1:]:\n",
    "        wordlist = wordlist & get_compatible_words(guess, get_hint(word, guess, hints), compatibilities)\n",
    "    return wordlist\n",
    "\n",
    "def num_words_remaining_after_guesses(word, *guesses):\n",
    "    return words_remaining_after_guesses(word, *guesses).sum()\n",
    "\n",
    "def num_hint_configs_for_last_guess(word, *guesses):\n",
    "    \"\"\"\n",
    "    Calculates the number of hint configurations that can appear after the last guess.\n",
    "    \"\"\"\n",
    "    if len(guesses) == 1:\n",
    "        wordlist = np.ones(NUM_WORDS, dtype=np.bool_)\n",
    "    else:\n",
    "        wordlist = words_remaining_after_guesses(word, *guesses[:-1])\n",
    "    return (get_hint_counts_jax(guesses[-1], wordlist, hints) > 0).sum()\n",
    "        \n",
    "print(num_words_remaining_after_guesses(0, 10,20,30,40))\n",
    "# Estimate the number of words remaining after the 1 to 6 guess by randomly sampling words and guesses\n",
    "N = 1000\n",
    "expected_cumulative_steps_to_store = 1\n",
    "for turns in range(1,7):\n",
    "    expected_words_remaining = 0\n",
    "    expected_hint_configs = 0\n",
    "    for i in range(N):\n",
    "        word = np.random.randint(NUM_WORDS)\n",
    "        guesses = np.random.randint(NUM_GUESSES, size=turns)\n",
    "        expected_words_remaining += num_words_remaining_after_guesses(word, *guesses)\n",
    "        expected_hint_configs += num_hint_configs_for_last_guess(word, *guesses)\n",
    "    expected_cumulative_steps_to_store *= NUM_GUESSES * expected_hint_configs / N\n",
    "    print(f\"Turns: {turns}, Expected words remaining: {expected_words_remaining/N}, Expected hint configs: {expected_hint_configs/N}, Expected cumulative steps to store: {expected_cumulative_steps_to_store}\")"
   ]
  },
  {
   "cell_type": "code",
   "execution_count": null,
   "metadata": {},
   "outputs": [
    {
     "data": {
      "text/plain": [
       "DeviceArray([False,  True, False, ..., False,  True, False], dtype=bool)"
      ]
     },
     "execution_count": 58,
     "metadata": {},
     "output_type": "execute_result"
    }
   ],
   "source": [
    "compatibilities[guess, 0, :]"
   ]
  },
  {
   "cell_type": "code",
   "execution_count": 28,
   "metadata": {},
   "outputs": [
    {
     "data": {
      "text/plain": [
       "(12947, 243, 2309)"
      ]
     },
     "execution_count": 28,
     "metadata": {},
     "output_type": "execute_result"
    }
   ],
   "source": [
    "guess_indices = jnp.arange(NUM_GUESSES)[:, jnp.newaxis, jnp.newaxis]\n",
    "hint_indices = jnp.arange(NUM_HINTS)[jnp.newaxis, :, jnp.newaxis]\n",
    "word_indices = jnp.arange(NUM_WORDS)[jnp.newaxis, jnp.newaxis, :]\n",
    "(hints[word_indices, guess_indices] != hint_indices).shape\n"
   ]
  },
  {
   "cell_type": "code",
   "execution_count": 21,
   "metadata": {},
   "outputs": [],
   "source": [
    "NUM_WORDS = 10\n",
    "wordle_update = Function(\"wordle_update\", BitVecSort(NUM_WORDS), BitVecSort(NUM_WORDS))\n"
   ]
  }
 ],
 "metadata": {
  "kernelspec": {
   "display_name": "Python 3.9.7 ('py39')",
   "language": "python",
   "name": "python3"
  },
  "language_info": {
   "codemirror_mode": {
    "name": "ipython",
    "version": 3
   },
   "file_extension": ".py",
   "mimetype": "text/x-python",
   "name": "python",
   "nbconvert_exporter": "python",
   "pygments_lexer": "ipython3",
   "version": "3.9.7"
  },
  "orig_nbformat": 4,
  "vscode": {
   "interpreter": {
    "hash": "a4e86c934b375bdfbcaa1924885d620a34ad2919c9a02314b4bebd1564549087"
   }
  }
 },
 "nbformat": 4,
 "nbformat_minor": 2
}
