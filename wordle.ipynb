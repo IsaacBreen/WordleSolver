{
 "cells": [
  {
   "cell_type": "code",
   "execution_count": 122,
   "metadata": {},
   "outputs": [
    {
     "name": "stdout",
     "output_type": "stream",
     "text": [
      "There are 3 words and 6 guesses.\n"
     ]
    }
   ],
   "source": [
    "import numpy as np\n",
    "import os\n",
    "\n",
    "n = 3\n",
    "\n",
    "# Import words from solutions_nyt.txt and nonsolutions_nyt.txt. They are quoted (e.g. \"soare\") and separated by \", \".\n",
    "with open(\"solutions_nyt.txt\", \"r\") as f:\n",
    "    # Remove all spaces and quotes\n",
    "    words = set(f.read().replace(\" \", \"\").replace('\"', \"\").split(\",\")[:n])\n",
    "with open(\"nonsolutions_nyt.txt\", \"r\") as f:\n",
    "    guesses = set(f.read().replace(\" \", \"\").replace('\"', \"\").split(',')[:n])\n",
    "guesses.update(words)\n",
    "guesses = list(guesses)\n",
    "words = list(words)\n",
    "print(f\"There are {len(words)} words and {len(guesses)} guesses.\")"
   ]
  },
  {
   "cell_type": "code",
   "execution_count": 123,
   "metadata": {},
   "outputs": [],
   "source": [
    "# Save to cpp/src/data/wordlist.hpp and cpp/src/data/guesslist.hpp\n",
    "USE_CONSTEXPR = False\n",
    "DATA_FOLDER = \"cpp/src/data/\"\n",
    "\n",
    "# Template for a c++ file that contains the data as a constexpr\n",
    "constexpr_template = \"\"\"\\\n",
    "#include <array>\n",
    "\n",
    "constexpr std::array {name} = {{{words}}};\n",
    "\"\"\"\n",
    "\n",
    "# # Template for a c++ file that imports the data from a csv file at the path [DATA_FOLDER]/[name].csv\n",
    "# csv_template = \"\"\"\\\n",
    "# #include <fstream>\n",
    "# #include <iostream>\n",
    "# #include <string>\n",
    "\n",
    "\n",
    "# int main() {{\n",
    "#     std::ifstream file(\"{DATA_FOLDER}{name}.csv\");\n",
    "#     std::string line;\n",
    "#     while (std::getline(file, line)) {{\n",
    "#         std::cout << line << std::endl;\n",
    "#     }}\n",
    "# }}\n",
    "# \"\"\"\n",
    "\n",
    "def save_constexpr_cpp(path, name, words, words_per_line=10):\n",
    "    with open(path, \"w\") as f:\n",
    "        words_str = []\n",
    "        for i in range(0, len(words), words_per_line):\n",
    "            words_str.append(\", \".join(f'\"{word}\"' for word in words[i:i+words_per_line]))\n",
    "        words_str = \"\\n    \" + \",\\n    \".join(words_str)\n",
    "        f.write(constexpr_template.format(name=name, words=words_str, DATA_FOLDER=DATA_FOLDER))\n",
    "        \n",
    "# def save_csv_cpp(path, name, csv_path):\n",
    "#     with open(path, \"w\") as f:\n",
    "#         f.write(csv_template.format(name=name, DATA_FOLDER=DATA_FOLDER))\n",
    "        \n",
    "save_constexpr_cpp(os.path.join(DATA_FOLDER, \"wordlist.hpp\"), \"words\", words)\n",
    "save_constexpr_cpp(os.path.join(DATA_FOLDER, \"guesslist.hpp\"), \"guesses\", guesses)\n",
    "# Save as regular csv files to the same folder\n",
    "np.savetxt(os.path.join(DATA_FOLDER, \"wordlist.csv\"), words, delimiter=\",\", fmt=\"%s\")\n",
    "np.savetxt(os.path.join(DATA_FOLDER, \"guesslist.csv\"), guesses, delimiter=\",\", fmt=\"%s\")\n",
    "\n",
    "# Save some constants to generated_constants.hpp\n",
    "constants_template = \"\"\"\\\n",
    "constexpr int WORD_LENGTH = {word_length};\n",
    "const int NUM_WORDS = {num_words};\n",
    "const int NUM_GUESSES = {num_guesses};\n",
    "\"\"\"\n",
    "\n",
    "with open(os.path.join(DATA_FOLDER, \"generated_constants.hpp\"), \"w\") as f:\n",
    "    f.write(constants_template.format(word_length=len(words[0]), num_words=len(words), num_guesses=len(guesses)))"
   ]
  },
  {
   "cell_type": "code",
   "execution_count": null,
   "metadata": {},
   "outputs": [],
   "source": []
  },
  {
   "cell_type": "code",
   "execution_count": 86,
   "metadata": {},
   "outputs": [],
   "source": []
  },
  {
   "cell_type": "code",
   "execution_count": null,
   "metadata": {},
   "outputs": [],
   "source": []
  }
 ],
 "metadata": {
  "interpreter": {
   "hash": "a4e86c934b375bdfbcaa1924885d620a34ad2919c9a02314b4bebd1564549087"
  },
  "kernelspec": {
   "display_name": "Python 3.9.7 ('py39')",
   "language": "python",
   "name": "python3"
  },
  "language_info": {
   "codemirror_mode": {
    "name": "ipython",
    "version": 3
   },
   "file_extension": ".py",
   "mimetype": "text/x-python",
   "name": "python",
   "nbconvert_exporter": "python",
   "pygments_lexer": "ipython3",
   "version": "3.9.7"
  },
  "orig_nbformat": 4
 },
 "nbformat": 4,
 "nbformat_minor": 2
}
